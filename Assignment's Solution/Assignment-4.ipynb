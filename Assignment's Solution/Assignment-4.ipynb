{
 "cells": [
  {
   "cell_type": "code",
   "execution_count": null,
   "id": "f87cdd49",
   "metadata": {},
   "outputs": [],
   "source": [
    "#1. What exactly is []?\n",
    "\n",
    "Answer-\n",
    "In Python, [] is an empty list literal, which represents a list with no elements. \n",
    "Lists are a collection of values, and [] is the syntax used to create an empty list. \n",
    "It can also be used to access elements of a list using indexing or to slice a list. \n",
    "Additionally, it can be used to represent an empty dictionary or an empty set in some contexts."
   ]
  },
  {
   "cell_type": "code",
   "execution_count": 1,
   "id": "44d2efef",
   "metadata": {},
   "outputs": [
    {
     "name": "stdout",
     "output_type": "stream",
     "text": [
      "[2, 4, 'hello', 8, 10]\n"
     ]
    }
   ],
   "source": [
    "#2. In a list of values stored in a variable called spam, \n",
    "#how would you assign the value 'hello' as the third value? (Assume [2, 4, 6, 8, 10] are in spam.)\n",
    "\n",
    "spam = [2, 4, 6, 8, 10]\n",
    "spam[2] = 'hello'\n",
    "print(spam)"
   ]
  },
  {
   "cell_type": "code",
   "execution_count": 12,
   "id": "485a42c8",
   "metadata": {},
   "outputs": [
    {
     "name": "stdout",
     "output_type": "stream",
     "text": [
      "Here is the third value: [2, 4, 'hello', 8, 10]\n",
      "Here are the next three queries : ['cat', 'dog', 'spam']\n"
     ]
    }
   ],
   "source": [
    "#3In a list of values stored in a variable called spam, \n",
    "#how would you assign the value 'hello' as the third value? Assume [2, 4, 6, 8, 10] are in spam.\n",
    "\n",
    "# Assigning 'hello' as the third value in the list\n",
    "spam = [2, 4, 6, 8, 10]\n",
    "spam[2] = 'hello'\n",
    "\n",
    "# Printing the updated list\n",
    "print(\"Here is the third value:\", spam)\n",
    "\n",
    "\n",
    "# Assigning 'hello' as the third value in the list ['a', 'b', 'c', 'd']\n",
    "spam1 = ['a', 'b', 'c', 'd']\n",
    "\n",
    "spam1[-1] = 'spam'\n",
    "\n",
    "spam1[1:3] = ['cat', 'dog']\n",
    "\n",
    "del spam1[0]\n",
    "\n",
    "print(\"Here are the next three queries :\", spam1)\n",
    "\n",
    "\n"
   ]
  },
  {
   "cell_type": "code",
   "execution_count": 16,
   "id": "fef3f146",
   "metadata": {},
   "outputs": [
    {
     "name": "stdout",
     "output_type": "stream",
     "text": [
      "d\n"
     ]
    }
   ],
   "source": [
    "\n",
    "#3. What is the value of spam[int(int('3' * 2) / 11)]?\n",
    "\n",
    "\n",
    "spam = ['a', 'b', 'c', 'd']\n",
    "value = spam[int(int('3' * 2) / 11)]\n",
    "print(value)"
   ]
  },
  {
   "cell_type": "code",
   "execution_count": 14,
   "id": "d00f1e88",
   "metadata": {},
   "outputs": [
    {
     "name": "stdout",
     "output_type": "stream",
     "text": [
      "d\n"
     ]
    }
   ],
   "source": [
    "#Let's pretend the spam includes the list ['a', 'b', 'c', 'd'] for the next three queries.\n",
    "\n",
    "#4. What is the value of spam[-1]?\n",
    "\n",
    "\n",
    "spam = ['a', 'b', 'c', 'd']\n",
    "print(spam[-1])"
   ]
  },
  {
   "cell_type": "code",
   "execution_count": 15,
   "id": "08231874",
   "metadata": {},
   "outputs": [
    {
     "name": "stdout",
     "output_type": "stream",
     "text": [
      "['a', 'b']\n"
     ]
    }
   ],
   "source": [
    "#Let's pretend the spam includes the list ['a', 'b', 'c', 'd'] for the next three queries.\n",
    "\n",
    "#5. What is the value of spam[:2]?\n",
    "\n",
    "spam = ['a', 'b', 'c', 'd']\n",
    "print(spam[:2])"
   ]
  },
  {
   "cell_type": "code",
   "execution_count": 17,
   "id": "9321e534",
   "metadata": {},
   "outputs": [
    {
     "name": "stdout",
     "output_type": "stream",
     "text": [
      "1\n"
     ]
    }
   ],
   "source": [
    "#Let's pretend bacon has the list [3.14, 'cat,' 11, 'cat,' True] .\n",
    "\n",
    "#6.What is the value of bacon.index('cat')?\n",
    "\n",
    "\n",
    "bacon = [3.14, 'cat', 11, 'cat', True]\n",
    "cat_index = bacon.index('cat')\n",
    "print(cat_index)"
   ]
  },
  {
   "cell_type": "code",
   "execution_count": 18,
   "id": "bcf4f108",
   "metadata": {},
   "outputs": [
    {
     "name": "stdout",
     "output_type": "stream",
     "text": [
      "Before append: [3.14, 'cat', 11, 'cat', True]\n",
      "After append: [3.14, 'cat', 11, 'cat', True, 99]\n"
     ]
    }
   ],
   "source": [
    "#Let's pretend bacon has the list [3.14, 'cat,' 11, 'cat,' True] .\n",
    "\n",
    "#7. How does bacon.append(99) change the look of the list value in bacon?\n",
    "\n",
    "\n",
    "bacon = [3.14, 'cat', 11, 'cat', True]\n",
    "print(\"Before append:\", bacon)\n",
    "\n",
    "bacon.append(99)\n",
    "print(\"After append:\", bacon)"
   ]
  },
  {
   "cell_type": "code",
   "execution_count": 78,
   "id": "764d9f4e",
   "metadata": {},
   "outputs": [
    {
     "name": "stdout",
     "output_type": "stream",
     "text": [
      "[3.14, 'cat', 11, 'cat', True]\n",
      "===================================\n",
      "\n",
      "\n",
      "[3.14, 11, 'cat', True]\n",
      "===================================\n",
      "\n",
      "\n",
      "[3.14, 11, True]\n"
     ]
    }
   ],
   "source": [
    "#Let's pretend bacon has the list [3.14, 'cat,' 11, 'cat,' True]\n",
    "\n",
    "#8. How does bacon.remove('cat') change the look of the list in bacon?\n",
    "\n",
    "bacon = [3.14, 'cat', 11, 'cat', True]\n",
    "print(bacon)  # output: [3.14, 'cat', 11, 'cat', True]\n",
    "\n",
    "print('='*35)\n",
    "print('\\n')\n",
    "bacon.remove('cat')\n",
    "print(bacon)  # output: [3.14, 11, 'cat', True]\n",
    "\n",
    "print('='*35)\n",
    "print('\\n')\n",
    "\n",
    "bacon.remove('cat')\n",
    "print(bacon)  # output: [3.14, 11, True]"
   ]
  },
  {
   "cell_type": "code",
   "execution_count": 76,
   "id": "b0fd2015",
   "metadata": {},
   "outputs": [
    {
     "name": "stdout",
     "output_type": "stream",
     "text": [
      "Here is the concate list: [1, 2, 3, 4, 5, 6]\n",
      "============================================================\n",
      "\n",
      "\n",
      "Here is the replicate list: [1, 2, 3, 1, 2, 3, 1, 2, 3]\n"
     ]
    }
   ],
   "source": [
    "#9.What are the list concatenation and list replication operators?\n",
    "\n",
    "In Python,the list concatenation operator is the plus symbol (+), \n",
    "which is used to combine two or more lists into a single list.\n",
    "\n",
    "The list replication operator is the asterisk symbol (*), \n",
    "which is used to create a new list by repeating an existing list a certain number of times.\n",
    " \n",
    "\n",
    "\n",
    "#list concatenation :\n",
    "list1 = [1, 2, 3]\n",
    "list2 = [4, 5, 6]\n",
    "concatenated_list = list1 + list2\n",
    "print(\"Here is the concate list:\", concatenated_list)  # output: [1, 2, 3, 4, 5, 6]\n",
    "\n",
    "\n",
    "print('='*60)\n",
    "print('\\n')\n",
    "\n",
    "\n",
    "#list replication :\n",
    "original_list = [1, 2, 3]\n",
    "replicated_list = original_list * 3\n",
    "print(\"Here is the replicate list:\",replicated_list)  # output: [1, 2, 3, 1, 2, 3, 1, 2, 3]"
   ]
  },
  {
   "cell_type": "code",
   "execution_count": 75,
   "id": "da81d460",
   "metadata": {},
   "outputs": [
    {
     "name": "stdout",
     "output_type": "stream",
     "text": [
      "[1, 2, 3, 4]\n",
      "===================================\n",
      "\n",
      "\n",
      "[1, 4, 2, 3]\n"
     ]
    }
   ],
   "source": [
    "#10. What is difference between the list methods append() and insert()?\n",
    "\n",
    "In Python, lists are mutable objects that allow us to store and manipulate collections of items. \n",
    "Two methods that can be used to modify a list are append() and insert().\n",
    "\n",
    "1- The append() method is used to add an item to the end of a list. \n",
    "It takes a single argument which is the item to be added to the list. \n",
    "\n",
    "\n",
    "my_list = [1, 2, 3]\n",
    "my_list.append(4)\n",
    "print(my_list)  # Output: [1, 2, 3, 4]\n",
    "\n",
    "\n",
    "print('='*35)\n",
    "print('\\n')\n",
    "\n",
    "\n",
    "2- The insert() method, on the other hand, is used to add an item to a specific position in the list. \n",
    "It takes two arguments - the first argument is the index at which to insert the item, \n",
    "and the second argument is the item itself. \n",
    "\n",
    "my_list = [1, 2, 3]\n",
    "my_list.insert(1, 4)\n",
    "print(my_list)  # Output: [1, 4, 2, 3]"
   ]
  },
  {
   "cell_type": "code",
   "execution_count": 74,
   "id": "ed5a5d2b",
   "metadata": {},
   "outputs": [
    {
     "name": "stdout",
     "output_type": "stream",
     "text": [
      "Actual list: [1, 2, 3, 4, 5, 3]\n",
      "===================================\n",
      "\n",
      "\n",
      "[1, 2, 4, 5, 3]\n",
      "===================================\n",
      "\n",
      "\n",
      "The last element: 3\n",
      "[1, 2, 4, 5]\n"
     ]
    }
   ],
   "source": [
    "#11. What are the two methods for removing items from a list?\n",
    "\n",
    "There are two methods to remove items from a list in Python:\n",
    "\n",
    "1 - The remove() method: This method removes the first occurrence of a given element from the list. \n",
    "    If the element is not present in the list, it raises a ValueError.\n",
    "\n",
    "2 - The pop() method: This method removes and returns the element at a given index from the list. \n",
    "    If no index is specified, it removes and returns the last element of the list.\n",
    "\n",
    "\n",
    "    \n",
    "# Example list\n",
    "my_list = [1, 2, 3, 4, 5, 3]\n",
    "\n",
    "print(\"Actual list:\", my_list)\n",
    "\n",
    "\n",
    "print('='*35)\n",
    "print('\\n')\n",
    "# Remove an element using the remove() method\n",
    "my_list.remove(3)\n",
    "print(my_list)  # Output: [1, 2, 4, 5, 3]\n",
    "\n",
    "print('='*35)\n",
    "print('\\n')\n",
    "# Remove the last element using the pop() method\n",
    "last_element = my_list.pop()\n",
    "print(\"The last element:\",last_element)  # Output: 3\n",
    "print(my_list)  # Output: [1, 2, 4, 5]"
   ]
  },
  {
   "cell_type": "code",
   "execution_count": 80,
   "id": "f6b0275f",
   "metadata": {},
   "outputs": [
    {
     "name": "stdout",
     "output_type": "stream",
     "text": [
      "1\n",
      "h\n",
      "===================================\n",
      "\n",
      "\n",
      "[1, 2, 3]\n",
      "hel\n",
      "===================================\n",
      "\n",
      "\n",
      "[1, 2, 3, 4, 5, 6, 7, 8]\n",
      "hello world!\n"
     ]
    }
   ],
   "source": [
    "#12. Describe how list values and string values are identical.\n",
    "\n",
    "In Python, lists and strings are both sequence data types, \n",
    "which means they share some similarities in terms of their properties and methods. \n",
    "Here are some ways in which list values and string values are identical:\n",
    "    \n",
    "1-Indexing: \n",
    "    Both lists and strings can be accessed using indexing. \n",
    "    For example, the first element of a list can be accessed using the index 0, \n",
    "    and the first character of a string can also be accessed using the index 0.\n",
    "\n",
    "\n",
    "2-Slicing: \n",
    "    Both lists and strings can be sliced to extract a portion of the sequence. \n",
    "    For example, the first three elements of a list can be sliced using the notation my_list[:3], \n",
    "    and the first three characters of a string can also be sliced using the notation my_string[:3].\n",
    "\n",
    "\n",
    "3-Concatenation: \n",
    "    Both lists and strings can be concatenated using the + operator. \n",
    "    For example, two lists can be concatenated using the notation list1 + list2, \n",
    "    and two strings can be concatenated using the notation string1 + string2.\n",
    "\n",
    "\n",
    "# See program:\n",
    "\n",
    "my_list = [1, 2, 3, 4, 5]\n",
    "my_string = \"hello world\"\n",
    "\n",
    "# indexing\n",
    "print(my_list[0])      # outputs 1\n",
    "print(my_string[0])    # outputs 'h'\n",
    "\n",
    "print('='*35)\n",
    "print('\\n')\n",
    "# slicing\n",
    "print(my_list[:3])     # outputs [1, 2, 3]\n",
    "print(my_string[:3])   # outputs 'hel'\n",
    "\n",
    "\n",
    "print('='*35)\n",
    "print('\\n')\n",
    "# concatenation\n",
    "new_list = my_list + [6, 7, 8]\n",
    "print(new_list)        # outputs [1, 2, 3, 4, 5, 6, 7, 8]\n",
    "new_string = my_string + \"!\"\n",
    "print(new_string)      # outputs 'hello world!'"
   ]
  },
  {
   "cell_type": "code",
   "execution_count": 73,
   "id": "5188422e",
   "metadata": {},
   "outputs": [
    {
     "name": "stdout",
     "output_type": "stream",
     "text": [
      "here is the origin tuple: (1, 2, 3)\n",
      "===================================\n",
      "\n",
      "\n",
      "here is the origin list: [1, 2, 3]\n",
      "===================================\n",
      "\n",
      "\n",
      "here is the 0th index of tuple: 1\n",
      "here is the 0th index of list: 1\n",
      "===================================\n",
      "\n",
      "\n",
      "here is the update list: [4, 2, 3]\n",
      "===================================\n",
      "\n",
      "\n",
      "here is the lenght of the tuple: 3\n",
      "here is the lenght of the list: 3\n",
      "===================================\n",
      "\n",
      "\n",
      "here is my updated tuple: (1, 2, 3, 4, 5)\n",
      "here is my updated list: [4, 2, 3, 4, 5]\n",
      "===================================\n",
      "\n",
      "\n",
      "here are item in tuple: 1\n",
      "here are item in tuple: 2\n",
      "here are item in tuple: 3\n",
      "===================================\n",
      "\n",
      "\n",
      "here are item in list: 4\n",
      "here are item in list: 2\n",
      "here are item in list: 3\n"
     ]
    }
   ],
   "source": [
    "#13.What's the difference between tuples and lists?\n",
    "\n",
    "1-Tuples are immutable, meaning once created, their contents cannot be changed. \n",
    "Lists, on the other hand, are mutable and can be modified after creation.\n",
    "\n",
    "2-Tuples use parentheses () to enclose their values, \n",
    "while lists use square brackets [].\n",
    "\n",
    "3-Tuples can be concatenated with other tuples using the + operator, \n",
    "while lists can be concatenated with other lists.\n",
    "\n",
    "4-Tuples are generally used for fixed collections of related data, \n",
    "while lists are used for collections of data that may change over time or require modification.\n",
    "\n",
    "\n",
    "\n",
    "\n",
    "# creating a tuple\n",
    "my_tuple = (1, 2, 3)\n",
    "print(\"here is the origin tuple:\",my_tuple)\n",
    "\n",
    "\n",
    "print('='*35)\n",
    "print('\\n')\n",
    "# creating a list\n",
    "my_list = [1, 2, 3]\n",
    "print(\"here is the origin list:\",my_list)\n",
    "\n",
    "print('='*35)\n",
    "print('\\n')\n",
    "# accessing elements\n",
    "print(\"here is the 0th index of tuple:\",my_tuple[0])  # output: 1\n",
    "print(\"here is the 0th index of list:\",my_list[0])   # output: 1\n",
    "\n",
    "\n",
    "print('='*35)\n",
    "print('\\n')\n",
    "# modifying elements\n",
    "# Tuples are immutable and do not support item assignment\n",
    "# The below line will throw an error\n",
    "# my_tuple[0] = 4\n",
    "\n",
    "# Lists are mutable and support item assignment\n",
    "my_list[0] = 4\n",
    "print(\"here is the update list:\",my_list)      # output: [4, 2, 3]\n",
    "\n",
    "\n",
    "print('='*35)\n",
    "print('\\n')\n",
    "# size\n",
    "print(\"here is the lenght of the tuple:\",len(my_tuple))  # output: 3\n",
    "print(\"here is the lenght of the list:\",len(my_list))   # output: 3\n",
    "\n",
    "\n",
    "print('='*35)\n",
    "print('\\n')\n",
    "# concatenation\n",
    "# Tuples can be concatenated with other tuples, but not lists\n",
    "new_tuple = my_tuple + (4, 5)\n",
    "print(\"here is my updated tuple:\",new_tuple)     # output: (1, 2, 3, 4, 5)\n",
    "\n",
    "# Lists can be concatenated with other lists\n",
    "new_list = my_list + [4, 5]\n",
    "print(\"here is my updated list:\",new_list)      # output: [4, 2, 3, 4, 5]\n",
    "\n",
    "\n",
    "print('='*35)\n",
    "print('\\n')\n",
    "# iteration\n",
    "for item in my_tuple:\n",
    "    print(\"here are item in tuple:\",item)      # output: 1 2 3\n",
    "\n",
    "    \n",
    "print('='*35)\n",
    "print('\\n')   \n",
    "for item in my_list:\n",
    "    print(\"here are item in list:\",item)     "
   ]
  },
  {
   "cell_type": "code",
   "execution_count": 70,
   "id": "9345c2e0",
   "metadata": {},
   "outputs": [
    {
     "name": "stdout",
     "output_type": "stream",
     "text": [
      "here is my  tuple: (1, 2, 3, 4)\n",
      "===================================\n",
      "\n",
      "\n",
      "here is my updated tuple: (1, 2, 5, 4)\n"
     ]
    }
   ],
   "source": [
    "\n",
    "Tuples are immutable data structures in Python, which means that once a tuple is created, its values cannot be changed. \n",
    "However, you can update the entire tuple by reassigning a new tuple to the same variable.\n",
    "\n",
    "In order to do that we first convert the tuple to a list using the list() function.\n",
    "Then we can update the value at a specific index in the list. Finally, \n",
    "we convert the list back to a tuple using the tuple() function and assign it to the same variable.\n",
    "\n",
    "\n",
    "# create a tuple\n",
    "my_tuple = (1, 2, 3, 4)\n",
    "print(\"here is my  tuple:\",my_tuple)\n",
    "\n",
    "print('='*35)\n",
    "print('\\n')\n",
    "# convert the tuple to a list\n",
    "my_list = list(my_tuple)\n",
    "\n",
    "# update the value at index 2\n",
    "my_list[2] = 5\n",
    "\n",
    "# convert the list back to a tuple\n",
    "my_tuple = tuple(my_list)\n",
    "\n",
    "print(\"here is my updated tuple:\",my_tuple)  # output: (1, 2, 5, 4)"
   ]
  },
  {
   "cell_type": "code",
   "execution_count": 81,
   "id": "3d7c8f34",
   "metadata": {},
   "outputs": [
    {
     "name": "stdout",
     "output_type": "stream",
     "text": [
      "<class 'tuple'>\n"
     ]
    }
   ],
   "source": [
    "#14. How do you type a tuple value that only contains the integer 42?\n",
    "\n",
    "my_tuple = (42,)\n",
    "\n",
    "print(type(my_tuple))"
   ]
  },
  {
   "cell_type": "code",
   "execution_count": 68,
   "id": "69ef2e5e",
   "metadata": {},
   "outputs": [
    {
     "name": "stdout",
     "output_type": "stream",
     "text": [
      "here is my list: [1, 2, 3]\n",
      "here is my updated tuple from list: (1, 2, 3)\n",
      "==================================================\n",
      "\n",
      "\n",
      "Here is my tuple: (1, 2, 3)\n",
      "Here is my updated list from tuple: [1, 2, 3]\n"
     ]
    }
   ],
   "source": [
    "#15. How do you get a list value's tuple form? How do you get a tuple value's list form?\n",
    "\n",
    "\n",
    "\n",
    "my_list = [1, 2, 3]\n",
    "print(\"here is my list:\",my_list)\n",
    "my_tuple = tuple(my_list)\n",
    "print(\"here is my updated tuple from list:\",my_tuple) # Output: (1, 2, 3)\n",
    "\n",
    "print('='*50)\n",
    "print('\\n')\n",
    "\n",
    "my_tuple = (1,2,3)\n",
    "print(\"Here is my tuple:\", my_tuple)\n",
    "my_list = list(my_tuple)\n",
    "print(\"Here is my updated list from tuple:\", my_list) # Output: [1,2,3]"
   ]
  },
  {
   "cell_type": "code",
   "execution_count": 96,
   "id": "cc4e3b02",
   "metadata": {},
   "outputs": [
    {
     "name": "stdout",
     "output_type": "stream",
     "text": [
      "here is my list: [4, 5, 6, 7, 8, 9]\n",
      "here is my new_list: [4, 5, 6, 7, 8, 9]\n",
      "here is memory location of my list: 2622886693184\n",
      "here is memory location of my new_list: 2622886693184\n",
      "As you can see both variable have same locations\n"
     ]
    }
   ],
   "source": [
    "#16. Variables that \"contain\" list values are not necessarily lists themselves. Instead, what do they contain?my_list = [4, 5, 6]\n",
    "\n",
    "Answer-\n",
    "\n",
    "# Assigning my_list to a new variable creates a new list\n",
    "new_list = my_list\n",
    "new_list += [7, 8, 9]\n",
    "\n",
    "print(\"here is my list:\",my_list)  # Output: [4, 5, 6, 7, 8, 9]\n",
    "print(\"here is my new_list:\",new_list)  # Output: [4, 5, 6, 7, 8, 9]\n",
    "print(\"here is memory location of my list:\",id(my_list))\n",
    "print(\"here is memory location of my new_list:\",id(new_list))\n",
    "print(\"As you can see both variable have same locations\")"
   ]
  },
  {
   "cell_type": "code",
   "execution_count": 98,
   "id": "e3c57913",
   "metadata": {},
   "outputs": [
    {
     "name": "stdout",
     "output_type": "stream",
     "text": [
      "Original List: [['a', 2, 3], [4, 5, 6], [7, 8, 9]]\n",
      "Shallow Copy: [['a', 2, 3], [4, 5, 6], [7, 8, 9]]\n",
      "Deep Copy: [[1, 2, 3], [4, 5, 6], [7, 8, 9]]\n",
      "==================================================\n",
      "\n",
      "\n",
      "As you can see, the shallow copy and the original list have been modified, while the deep copy remains unchanged.\n"
     ]
    }
   ],
   "source": [
    "#17. How do you distinguish between copy.copy() and copy.deepcopy()?\n",
    "\n",
    "\n",
    "Answer-\n",
    "\n",
    "In Python, when you want to create a new object that is a copy of an existing object, you can use the copy module. \n",
    "The copy module provides two methods for creating a copy of an object: copy.copy() and copy.deepcopy(). \n",
    "    The main difference between these two methods is that copy.copy() creates a shallow copy of an object, \n",
    "    while copy.deepcopy() creates a deep copy.\n",
    "\n",
    "A shallow copy creates a new object with the same reference to the original object. \n",
    "This means that changes made to the original object will also affect the new object. \n",
    "In contrast, a deep copy creates a new object with a new reference that is completely independent of the original object. \n",
    "This means that changes made to the original object will not affect the new object.\n",
    "\n",
    "# See code :\n",
    "\n",
    "import copy\n",
    "\n",
    "# create a list with nested objects\n",
    "original_list = [[1, 2, 3], [4, 5, 6], [7, 8, 9]]\n",
    "\n",
    "# shallow copy\n",
    "shallow_copy = copy.copy(original_list)\n",
    "\n",
    "# deep copy\n",
    "deep_copy = copy.deepcopy(original_list)\n",
    "\n",
    "# modify the first element of the original list\n",
    "original_list[0][0] = 'a'\n",
    "\n",
    "# print the original list, shallow copy, and deep copy\n",
    "print('Original List:', original_list)\n",
    "print('Shallow Copy:', shallow_copy)\n",
    "print('Deep Copy:', deep_copy)\n",
    "\n",
    "\n",
    "print('='*50)\n",
    "print('\\n')\n",
    "\n",
    "\n",
    "print('As you can see, the shallow copy and the original list have been modified, while the deep copy remains unchanged.')\n"
   ]
  },
  {
   "cell_type": "code",
   "execution_count": null,
   "id": "12712587",
   "metadata": {},
   "outputs": [],
   "source": []
  },
  {
   "cell_type": "code",
   "execution_count": null,
   "id": "c5d6cae8",
   "metadata": {},
   "outputs": [],
   "source": []
  },
  {
   "cell_type": "code",
   "execution_count": null,
   "id": "8d36c2d8",
   "metadata": {},
   "outputs": [],
   "source": []
  }
 ],
 "metadata": {
  "kernelspec": {
   "display_name": "Python 3 (ipykernel)",
   "language": "python",
   "name": "python3"
  },
  "language_info": {
   "codemirror_mode": {
    "name": "ipython",
    "version": 3
   },
   "file_extension": ".py",
   "mimetype": "text/x-python",
   "name": "python",
   "nbconvert_exporter": "python",
   "pygments_lexer": "ipython3",
   "version": "3.10.10"
  }
 },
 "nbformat": 4,
 "nbformat_minor": 5
}
