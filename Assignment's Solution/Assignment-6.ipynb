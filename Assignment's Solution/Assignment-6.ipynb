{
 "cells": [
  {
   "cell_type": "code",
   "execution_count": 1,
   "id": "0743476a",
   "metadata": {},
   "outputs": [
    {
     "name": "stdout",
     "output_type": "stream",
     "text": [
      "Hello\n",
      "World\n",
      "Hello\tWorld\n",
      "Hello\"World\n",
      "Hello\\World\n"
     ]
    }
   ],
   "source": [
    "#1. What are escape characters, and how do you use them?\n",
    "Answer-\n",
    "\n",
    "Python has a total of 14 escape characters, which can be used to represent special characters or to \n",
    "insert whitespace and formatting into strings.\n",
    "\n",
    "Escape characters are special characters used in strings to represent characters that cannot \n",
    "be typed or are difficult to represent directly. Escape characters are prefixed by a backslash () \n",
    "and are followed by the character to be represented.\n",
    "\n",
    "Some common escape characters are:\n",
    "\n",
    "\\n for a new line\n",
    "\\t for a tab\n",
    "' for a single quote\n",
    "\" for a double quote\n",
    "\n",
    "print(\"Hello\\nWorld\") # prints Hello on one line and World on another line\n",
    "print(\"Hello\\tWorld\") # prints Hello followed by a tab and then World\n",
    "print(\"Hello\\\"World\") # prints Hello\"World\n",
    "print(\"Hello\\\\World\") # prints Hello\\World"
   ]
  },
  {
   "cell_type": "code",
   "execution_count": null,
   "id": "c395579f",
   "metadata": {},
   "outputs": [],
   "source": [
    "#2. What do the escape characters n and t stand for?\n",
    "\n",
    "Answer-\n",
    "\n",
    "\\n for a new line\n",
    "\\t for a tab"
   ]
  },
  {
   "cell_type": "code",
   "execution_count": 2,
   "id": "c90284ec",
   "metadata": {},
   "outputs": [
    {
     "name": "stdout",
     "output_type": "stream",
     "text": [
      "This is a backslash: \\\n"
     ]
    }
   ],
   "source": [
    "#3. What is the way to include backslash characters in a string?\n",
    "\n",
    "Answer-\n",
    "\n",
    "To include a backslash character in a string, you need to use the escape character \\. \n",
    "So, if we want to include a backslash character itself in a string, we need to use two backslashes\n",
    "\n",
    "my_string = \"This is a backslash: \\\\\"\n",
    "print(my_string)"
   ]
  },
  {
   "cell_type": "code",
   "execution_count": 8,
   "id": "42bc9767",
   "metadata": {},
   "outputs": [
    {
     "name": "stdout",
     "output_type": "stream",
     "text": [
      "Howl's Moving Castle\n",
      "Howl's Moving Castle.\n"
     ]
    }
   ],
   "source": [
    "#4. The string \"Howl's Moving Castle\" is a correct value. \n",
    "#Why isn't the single quote character in the word Howl's not escaped a problem?\n",
    "\n",
    "\n",
    "\n",
    "print(\"Howl's Moving Castle\")# prints Howl's Moving Castle\n",
    "\n",
    "print('Howl\\'s Moving Castle.')# prints Howl's Moving Castle\n",
    "\n",
    "print('Howl's Moving Castle') # SyntaxError: invalid syntax\n",
    "\n",
    "\n"
   ]
  },
  {
   "cell_type": "code",
   "execution_count": 12,
   "id": "9c39dff5",
   "metadata": {},
   "outputs": [
    {
     "name": "stdout",
     "output_type": "stream",
     "text": [
      "This is a string\n",
      "with multiple lines\n",
      "using triple quotes.\n"
     ]
    }
   ],
   "source": [
    "#5. How do you write a string of newlines if you don't want to use the n character?\n",
    "\n",
    "\n",
    "my_string = '''This is a string\n",
    "with multiple lines\n",
    "using triple quotes.'''\n",
    "print(my_string)"
   ]
  },
  {
   "cell_type": "code",
   "execution_count": 13,
   "id": "53ce9d9f",
   "metadata": {},
   "outputs": [
    {
     "name": "stdout",
     "output_type": "stream",
     "text": [
      "e\n",
      "Hello\n",
      "Hello\n",
      "lo, world!\n"
     ]
    }
   ],
   "source": [
    "#6. What are the values of the given expressions?\n",
    "#'Hello, world!'[1]\n",
    "#'Hello, world!'[0:5]\n",
    "#'Hello, world!'[:5]\n",
    "#'Hello, world!'[3:]\n",
    "\n",
    "Answer-\n",
    "\n",
    "string = 'Hello, world!'\n",
    "print(string[1])  # Output: 'e'\n",
    "print(string[0:5])  # Output: 'Hello'\n",
    "print(string[:5])  # Output: 'Hello'\n",
    "print(string[3:])  # Output: 'lo, world!'"
   ]
  },
  {
   "cell_type": "code",
   "execution_count": 19,
   "id": "5dd0a312",
   "metadata": {},
   "outputs": [
    {
     "name": "stdout",
     "output_type": "stream",
     "text": [
      "HELLO\n",
      "True\n",
      "hello\n"
     ]
    }
   ],
   "source": [
    "#7. What are the values of the following expressions?\n",
    "#'Hello'.upper()\n",
    "#'Hello'.upper().isupper()\n",
    "#'Hello'.upper().lower()\n",
    "\n",
    "Answer-\n",
    "\n",
    "print('Hello'.upper())\n",
    "print('Hello'.upper().isupper())\n",
    "print('Hello'.upper().lower())"
   ]
  },
  {
   "cell_type": "code",
   "execution_count": 23,
   "id": "38dc799c",
   "metadata": {},
   "outputs": [
    {
     "name": "stdout",
     "output_type": "stream",
     "text": [
      "Split List: ['Remember,', 'remember,', 'the', 'fifth', 'of', 'July.']\n",
      "Join List: Remember,-remember,-the-fifth-of-July.\n"
     ]
    }
   ],
   "source": [
    "#8. What are the values of the following expressions?\n",
    "\n",
    "'Remember, remember, the fifth of July.'.split()\n",
    "'-'.join('There can only one.'.split())\n",
    "\n",
    "Answer-\n",
    "\n",
    "\n",
    "# Demonstrating string methods split() and join()\n",
    "\n",
    "# Using split() to break a string into a list of words\n",
    "quote = \"Remember, remember, the fifth of July.\"\n",
    "word_list = quote.split()\n",
    "print('Split List:',word_list)\n",
    "\n",
    "# Using join() to concatenate a list of words into a single string\n",
    "new_string = \"-\".join(word_list)\n",
    "print('Join List:',new_string)"
   ]
  },
  {
   "cell_type": "code",
   "execution_count": 32,
   "id": "8d68604c",
   "metadata": {},
   "outputs": [
    {
     "name": "stdout",
     "output_type": "stream",
     "text": [
      "Hello world!        \n",
      "                                      Hello world!\n",
      "                  Hello world!                 \n"
     ]
    }
   ],
   "source": [
    "#9. What are the methods for right-justifying, left-justifying, and centering a string?\n",
    "Answer-\n",
    "\n",
    "# Sample string\n",
    "my_string = \"Hello world!\"\n",
    "\n",
    "# Left-justify the string to a width of 20\n",
    "left_justified = my_string.ljust(20)\n",
    "print(left_justified)\n",
    "\n",
    "# Right-justify the string to a width of 50\n",
    "right_justified = my_string.rjust(50)\n",
    "print(right_justified)\n",
    "\n",
    "# Center the string within a width of 47\n",
    "centered = my_string.center(47)\n",
    "print(centered)"
   ]
  },
  {
   "cell_type": "code",
   "execution_count": 35,
   "id": "cbcbf5a9",
   "metadata": {},
   "outputs": [
    {
     "name": "stdout",
     "output_type": "stream",
     "text": [
      "hello world\n"
     ]
    }
   ],
   "source": [
    "#10. What is the best way to remove whitespace characters from the start or end?\n",
    "\n",
    "Answer-\n",
    "The best way to remove whitespace characters from the start or end of a string is to use the strip() method. \n",
    "This method returns a new string with all leading and trailing whitespace removed.\n",
    "\n",
    "my_string = '   hello world   '\n",
    "clean_string = my_string.strip()\n",
    "print(clean_string)\n",
    "\n"
   ]
  },
  {
   "cell_type": "code",
   "execution_count": null,
   "id": "7e9852a5",
   "metadata": {},
   "outputs": [],
   "source": []
  },
  {
   "cell_type": "code",
   "execution_count": null,
   "id": "658c8b5f",
   "metadata": {},
   "outputs": [],
   "source": []
  },
  {
   "cell_type": "code",
   "execution_count": null,
   "id": "86b606f9",
   "metadata": {},
   "outputs": [],
   "source": []
  },
  {
   "cell_type": "code",
   "execution_count": null,
   "id": "82e5dedc",
   "metadata": {},
   "outputs": [],
   "source": []
  },
  {
   "cell_type": "code",
   "execution_count": null,
   "id": "0a1155c0",
   "metadata": {},
   "outputs": [],
   "source": []
  },
  {
   "cell_type": "code",
   "execution_count": null,
   "id": "0344c052",
   "metadata": {},
   "outputs": [],
   "source": []
  },
  {
   "cell_type": "code",
   "execution_count": null,
   "id": "58d11705",
   "metadata": {},
   "outputs": [],
   "source": []
  }
 ],
 "metadata": {
  "kernelspec": {
   "display_name": "Python 3 (ipykernel)",
   "language": "python",
   "name": "python3"
  },
  "language_info": {
   "codemirror_mode": {
    "name": "ipython",
    "version": 3
   },
   "file_extension": ".py",
   "mimetype": "text/x-python",
   "name": "python",
   "nbconvert_exporter": "python",
   "pygments_lexer": "ipython3",
   "version": "3.10.10"
  }
 },
 "nbformat": 4,
 "nbformat_minor": 5
}
