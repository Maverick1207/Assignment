{
 "cells": [
  {
   "cell_type": "code",
   "execution_count": null,
   "id": "c87146dc",
   "metadata": {},
   "outputs": [],
   "source": [
    "#1. Why are functions advantageous to have in your programs?\n",
    "\n",
    "Answer-\n",
    "\n",
    "Functions are advantageous to have in programs for several reasons:\n",
    "\n",
    "1- Reusability: Functions can be reused multiple times in a program without the need to rewrite the code. \n",
    "    This saves time and makes the code more organized.\n",
    "\n",
    "2- Modularity: Functions break down a program into smaller, more manageable pieces. \n",
    "    This makes the code easier to read, debug and maintain.\n",
    "\n",
    "3- Abstraction: Functions allow you to abstract away complex logic and encapsulate it into a single entity. \n",
    "    This makes the code more readable and reduces the complexity.\n",
    "\n",
    "4- Testability: Functions can be tested independently of the rest of the program, making it easier to isolate and fix bugs.\n",
    "\n",
    "5- Scalability: Functions allow you to scale a program by adding or removing functionality without affecting other \n",
    "    parts of the program.\n",
    "\n",
    "Overall, functions make programs more organized, easier to read and maintain, and can reduce errors and bugs."
   ]
  },
  {
   "cell_type": "code",
   "execution_count": 7,
   "id": "5b47877f",
   "metadata": {},
   "outputs": [
    {
     "name": "stdout",
     "output_type": "stream",
     "text": [
      "Hello, John!\n"
     ]
    }
   ],
   "source": [
    "#2. When does the code in a function run: when it's specified or when it's called?\n",
    "\n",
    "Answer-\n",
    "The code in a function runs when it is called, not when it is specified.\n",
    "Defining a function simply creates it as an object and defines its name, parameters, and code. \n",
    "The code inside the function is not executed until the function is called with the function name and any arguments specified.\n",
    "\n",
    "See, example :\n",
    "\n",
    "# defining the function\n",
    "def greet(a):\n",
    "    print(\"Hello, \" +a+ \"!\") # concatenation operator used to combine the string and variable\n",
    "\n",
    "# calling the function\n",
    "greet(\"John\")"
   ]
  },
  {
   "cell_type": "code",
   "execution_count": null,
   "id": "b62eec15",
   "metadata": {},
   "outputs": [],
   "source": [
    "#3. What statement creates a function?\n",
    "\n",
    "Answer-\n",
    "The def statement is used to createor define a function in Python.\n"
   ]
  },
  {
   "cell_type": "code",
   "execution_count": 9,
   "id": "414bff3b",
   "metadata": {},
   "outputs": [
    {
     "name": "stdout",
     "output_type": "stream",
     "text": [
      "30\n"
     ]
    }
   ],
   "source": [
    "#4. What is the difference between a function and a function call?\n",
    "\n",
    "Answer-\n",
    "A function is a block of code that performs a specific task and can be called from other parts of the program. \n",
    "It is defined using the def keyword followed by the function name and parameters (if any). \n",
    "On the other hand, a function call is a statement that executes the code inside the function and returns the result (if any).\n",
    "\n",
    "Here's an example code that demonstrates the difference between a function and a function call:\n",
    "\n",
    "# defining a function named \"add_numbers\"\n",
    "def add_numbers(a, b):\n",
    "    return a + b\n",
    "\n",
    "# calling the function with arguments\n",
    "result = add_numbers(10, 20)\n",
    "\n",
    "# printing the result returned by the function\n",
    "print(result)"
   ]
  },
  {
   "cell_type": "code",
   "execution_count": 21,
   "id": "e39c5e1c",
   "metadata": {},
   "outputs": [
    {
     "name": "stdout",
     "output_type": "stream",
     "text": [
      "Global Hat: 42\n",
      "Local Hat: 99\n",
      "Global Hat: 42\n",
      "Global Hat: 101\n",
      "Global Hat: 101\n"
     ]
    }
   ],
   "source": [
    "#5. How many global scopes are there in a Python program? How many local scopes?\n",
    "\n",
    "In a Python program, there is only one global scope. It can be accessed from any part of the code, including from within functions.\n",
    "\n",
    "The number of local scopes in a Python program depends on the number of functions and the number of nested functions. \n",
    "Every time a function is called, a new local scope is created for that function. If a function contains nested functions, \n",
    "then each nested function has its own local scope as well. When a function completes execution, \n",
    "its local scope is destroyed, and any variables that were defined in that scope are also destroyed.\n",
    "\n",
    "\n",
    "# Global variable\n",
    "\n",
    "Hat = 42\n",
    "\n",
    "def bat():\n",
    "    # Local variable\n",
    "    Hat = 99\n",
    "    print('Local Hat:', Hat)\n",
    "\n",
    "def cat():\n",
    "    # Access global variable\n",
    "    global Hat\n",
    "    Hat = 101\n",
    "    print('Global Hat:', Hat)\n",
    "\n",
    "# Main program\n",
    "print('Global Hat:', Hat) # prints 42\n",
    "bat() # prints \"Local Hat: 99\"\n",
    "print('Global Hat:', Hat) # prints 42\n",
    "cat() # prints \"Global Hat: 101\"\n",
    "print('Global Hat:', Hat) # prints 101"
   ]
  },
  {
   "cell_type": "code",
   "execution_count": 48,
   "id": "182a995a",
   "metadata": {},
   "outputs": [
    {
     "name": "stdout",
     "output_type": "stream",
     "text": [
      "15\n",
      "10\n"
     ]
    },
    {
     "ename": "NameError",
     "evalue": "name 'y' is not defined",
     "output_type": "error",
     "traceback": [
      "\u001b[1;31m---------------------------------------------------------------------------\u001b[0m",
      "\u001b[1;31mNameError\u001b[0m                                 Traceback (most recent call last)",
      "Input \u001b[1;32mIn [48]\u001b[0m, in \u001b[0;36m<cell line: 15>\u001b[1;34m()\u001b[0m\n\u001b[0;32m     13\u001b[0m \u001b[38;5;66;03m# Now try to access x, y, and z outside the function\u001b[39;00m\n\u001b[0;32m     14\u001b[0m \u001b[38;5;28mprint\u001b[39m(x)  \u001b[38;5;66;03m# This will give an error because x is not defined in the global scope\u001b[39;00m\n\u001b[1;32m---> 15\u001b[0m \u001b[38;5;28mprint\u001b[39m(\u001b[43my\u001b[49m)  \u001b[38;5;66;03m# This will give an error because y is not defined in the global scope\u001b[39;00m\n\u001b[0;32m     16\u001b[0m \u001b[38;5;28mprint\u001b[39m(z)\n",
      "\u001b[1;31mNameError\u001b[0m: name 'y' is not defined"
     ]
    }
   ],
   "source": [
    "#6. What happens to variables in a local scope when the function call returns?\n",
    "\n",
    "Answer-\n",
    "When a function call returns, the local scope of the function is destroyed and all the variables within it are forgotten. \n",
    "This means that any changes made to the variables inside the local scope are not reflected outside of the function. \n",
    "If the function returns a value, it can be assigned to a variable in the calling code and used outside of the function. \n",
    "However, any variables created within the local scope of the function are not accessible outside of the function.\n",
    "\n",
    "Example :\n",
    "\n",
    "def my_func():\n",
    "    x = 5\n",
    "    y = 10\n",
    "    z = x + y\n",
    "    return z\n",
    "\n",
    "result = my_func()\n",
    "print(result)  # This will print 15\n",
    "\n",
    "# Now try to access x, y, and z outside the function\n",
    "print(x)  # This will give an error because x is not defined in the global scope\n",
    "print(y)  # This will give an error because y is not defined in the global scope\n",
    "print(z)  # This will give an error because z is not defined in the global scope"
   ]
  },
  {
   "cell_type": "code",
   "execution_count": 42,
   "id": "4fee234e",
   "metadata": {},
   "outputs": [
    {
     "name": "stdout",
     "output_type": "stream",
     "text": [
      "x = 10\n",
      "y = 5\n",
      "x = 10\n"
     ]
    }
   ],
   "source": [
    "# Global variable\n",
    "x = 10\n",
    "\n",
    "def my_function():\n",
    "    # Local variable\n",
    "    y = 5\n",
    "    print(\"x =\", x)  # Access global variable\n",
    "    print(\"y =\", y)  # Access local variable\n",
    "\n",
    "my_function()\n",
    "print(\"x =\", x)  # Access global variable outside of the function"
   ]
  },
  {
   "cell_type": "code",
   "execution_count": 49,
   "id": "c4a355c5",
   "metadata": {},
   "outputs": [
    {
     "name": "stdout",
     "output_type": "stream",
     "text": [
      "10\n"
     ]
    }
   ],
   "source": [
    "#7. What is the concept of a return value? Is it possible to have a return value in an expression?\n",
    "\n",
    "Answer-\n",
    "\n",
    "The concept of a return value refers to the value that a function returns after it is called and executed. \n",
    "A return statement in a function is used to exit the function and return a value back to the caller. \n",
    "The return value can be a variable, a data type, or an object.\n",
    "\n",
    "\n",
    "def add_numbers(x, y):\n",
    "    sum = x + y\n",
    "    return sum\n",
    "\n",
    "result = add_numbers(2, 3) * 2\n",
    "print(result) # Output: 10"
   ]
  },
  {
   "cell_type": "code",
   "execution_count": null,
   "id": "86b8a624",
   "metadata": {},
   "outputs": [],
   "source": []
  },
  {
   "cell_type": "code",
   "execution_count": 50,
   "id": "ef16c119",
   "metadata": {},
   "outputs": [
    {
     "name": "stdout",
     "output_type": "stream",
     "text": [
      "5 is odd\n",
      "6 is even\n"
     ]
    }
   ],
   "source": [
    "# expressions in assignments\n",
    "x = 3 + 4  # x is assigned the value 7\n",
    "y = len(\"hello\")  # y is assigned the value 5\n",
    "\n",
    "# expressions in function calls\n",
    "def square(num):\n",
    "    return num * num\n",
    "\n",
    "a = square(3)  # a is assigned the value 9\n",
    "b = square(4)  # b is assigned the value 16\n",
    "\n",
    "# expressions in conditional statements\n",
    "def is_even(num):\n",
    "    return num % 2 == 0\n",
    "\n",
    "if is_even(5):\n",
    "    print(\"5 is even\")\n",
    "else:\n",
    "    print(\"5 is odd\")\n",
    "\n",
    "if is_even(6):\n",
    "    print(\"6 is even\")\n",
    "else:\n",
    "    print(\"6 is odd\")"
   ]
  },
  {
   "cell_type": "code",
   "execution_count": 51,
   "id": "32206720",
   "metadata": {},
   "outputs": [
    {
     "name": "stdout",
     "output_type": "stream",
     "text": [
      "This function doesn't have a return statement.\n",
      "Result of function call: None\n"
     ]
    }
   ],
   "source": [
    "#8. If a function does not have a return statement, what is the return value of a call to that function?\n",
    "\n",
    "\n",
    "Answer-\n",
    "If a function does not have a return statement, the return value of a call to that function will be None.\n",
    "\n",
    "see example :\n",
    "\n",
    "def no_return():\n",
    "    print(\"This function doesn't have a return statement.\")\n",
    "\n",
    "result = no_return()\n",
    "print(\"Result of function call:\", result)"
   ]
  },
  {
   "cell_type": "code",
   "execution_count": 52,
   "id": "f15c610d",
   "metadata": {},
   "outputs": [
    {
     "name": "stdout",
     "output_type": "stream",
     "text": [
      "Inside the function: 5\n",
      "Outside the function: 5\n"
     ]
    }
   ],
   "source": [
    "#9. How do you make a function variable refer to the global variable?\n",
    "\n",
    "Answer-\n",
    "To make a function variable refer to the global variable, you can use the global keyword in Python.\n",
    "\n",
    "x = 10 # this will not print after updated within function\n",
    "\n",
    "def my_function():\n",
    "    global x\n",
    "    x = 5  # value updated\n",
    "    print(\"Inside the function:\", x)\n",
    "\n",
    "my_function()\n",
    "\n",
    "print(\"Outside the function:\", x)"
   ]
  },
  {
   "cell_type": "code",
   "execution_count": null,
   "id": "8c182fb2",
   "metadata": {},
   "outputs": [],
   "source": [
    "\n"
   ]
  },
  {
   "cell_type": "code",
   "execution_count": 56,
   "id": "fbfa895b",
   "metadata": {},
   "outputs": [
    {
     "name": "stdout",
     "output_type": "stream",
     "text": [
      "x is <class 'NoneType'>\n"
     ]
    }
   ],
   "source": [
    "#10. What is the data type of None?\n",
    "\n",
    "Answer-\n",
    "The data type of None is NoneType.\n",
    "\n",
    "\n",
    "x = None\n",
    "\n",
    "print(\"x is\", type(x))  # output: \"x is <class 'NoneType'>\""
   ]
  },
  {
   "cell_type": "code",
   "execution_count": 58,
   "id": "54eacbff",
   "metadata": {},
   "outputs": [
    {
     "ename": "ModuleNotFoundError",
     "evalue": "No module named 'pets'",
     "output_type": "error",
     "traceback": [
      "\u001b[1;31m---------------------------------------------------------------------------\u001b[0m",
      "\u001b[1;31mModuleNotFoundError\u001b[0m                       Traceback (most recent call last)",
      "Input \u001b[1;32mIn [58]\u001b[0m, in \u001b[0;36m<cell line: 6>\u001b[1;34m()\u001b[0m\n\u001b[0;32m      3\u001b[0m \u001b[38;5;28;01mdef\u001b[39;00m \u001b[38;5;21mpet_names\u001b[39m():\n\u001b[0;32m      4\u001b[0m     \u001b[38;5;28;01mreturn\u001b[39;00m [\u001b[38;5;124m\"\u001b[39m\u001b[38;5;124mFluffy\u001b[39m\u001b[38;5;124m\"\u001b[39m, \u001b[38;5;124m\"\u001b[39m\u001b[38;5;124mFido\u001b[39m\u001b[38;5;124m\"\u001b[39m, \u001b[38;5;124m\"\u001b[39m\u001b[38;5;124mMittens\u001b[39m\u001b[38;5;124m\"\u001b[39m]\n\u001b[1;32m----> 6\u001b[0m \u001b[38;5;28;01mimport\u001b[39;00m \u001b[38;5;21;01mpets\u001b[39;00m\n\u001b[0;32m      8\u001b[0m names \u001b[38;5;241m=\u001b[39m pets\u001b[38;5;241m.\u001b[39mpet_names()\n\u001b[0;32m      9\u001b[0m \u001b[38;5;28mprint\u001b[39m(names)\n",
      "\u001b[1;31mModuleNotFoundError\u001b[0m: No module named 'pets'"
     ]
    }
   ],
   "source": [
    "#11. What does the sentence import areallyourpetsnamederic do?\n",
    "\n",
    "Answer-\n",
    "\n",
    "The sentence import areallyourpetsnamederic tries to import a module named \"areallyourpetsnamederic\". \n",
    "If such a module exists, it will be imported and made available for use in the current program. \n",
    "If the module does not exist, an ImportError will be raised.\n",
    "\n",
    "\n",
    "def pet_names():  # module named \"pets.py\" containing the following code\n",
    "    return [\"Fluffy\", \"Fido\", \"Mittens\"]\n",
    "\n",
    "import pets # module named \"main.py\" which imports \"pets.py\" \n",
    "\n",
    "names = pets.pet_names()\n",
    "print(names)"
   ]
  },
  {
   "cell_type": "code",
   "execution_count": null,
   "id": "1862b7fd",
   "metadata": {},
   "outputs": [],
   "source": [
    "#12. If you had a bacon() feature in a spam module, what would you call it after importing spam?\n",
    "\n",
    "After importing the spam module, you can call the bacon() feature using the dot notation as follows:\n",
    "\n",
    "import spam\n",
    "\n",
    "spam.bacon()"
   ]
  },
  {
   "cell_type": "code",
   "execution_count": 63,
   "id": "96c4efbb",
   "metadata": {},
   "outputs": [
    {
     "name": "stdout",
     "output_type": "stream",
     "text": [
      "sum is 9\n"
     ]
    }
   ],
   "source": [
    "def sum(a, b):\n",
    "    return a + b\n",
    "    print(\"sum is\" , sum)\n",
    "    \n",
    "sum = sum(4,5)\n",
    "print(\"sum is\",sum)"
   ]
  },
  {
   "cell_type": "code",
   "execution_count": null,
   "id": "cfc75309",
   "metadata": {},
   "outputs": [],
   "source": [
    "#13. What can you do to save a programme from crashing if it encounters an error?\n",
    "\n",
    "\n",
    "To save a program from crashing if it encounters an error, you can use exception handling. \n",
    "Exception handling allows you to handle errors that occur during the execution of your program, \n",
    "and take appropriate actions to avoid a program crash.\n",
    "\n",
    "In Python, you can use the try and except statements to handle exceptions. \n",
    "The code that may raise an exception is placed in the try block, \n",
    "and the code that handles the exception is placed in the except block. \n",
    "If an exception occurs in the try block, control is transferred to the except block."
   ]
  },
  {
   "cell_type": "code",
   "execution_count": 69,
   "id": "88404ce4",
   "metadata": {},
   "outputs": [
    {
     "name": "stdout",
     "output_type": "stream",
     "text": [
      "Error: Division by zero!\n",
      "Cannot perform division.\n"
     ]
    }
   ],
   "source": [
    "def divide(x, y):\n",
    "    try:\n",
    "        result = x / y\n",
    "    except ZeroDivisionError:\n",
    "        print(\"Error: Division by zero!\")\n",
    "        result = None\n",
    "    return result\n",
    "\n",
    "# Example usage\n",
    "a = 10\n",
    "b = 0\n",
    "result = divide(a, b)\n",
    "if result is None:\n",
    "    print(\"Cannot perform division.\")\n",
    "else:\n",
    "    print(\"Result of division:\", result)"
   ]
  },
  {
   "cell_type": "code",
   "execution_count": null,
   "id": "51a80a55",
   "metadata": {},
   "outputs": [],
   "source": [
    "#14. What is the purpose of the try clause? What is the purpose of the except clause?\n",
    "\n",
    "As we can see in above question 13- The purpose of the try clause in Python is to attempt to execute a block of code and catch \n",
    "any exceptions that may occur during its execution. If an exception occurs, the control is transferred to the except clause.\n",
    "\n",
    "The purpose of the except clause is to handle exceptions that were caught by the try clause. \n",
    "It specifies what to do in case an exception occurs during the execution of the try block. \n",
    "By handling exceptions, we can prevent our program from crashing and handle unexpected errors in a controlled manner."
   ]
  }
 ],
 "metadata": {
  "kernelspec": {
   "display_name": "Python 3 (ipykernel)",
   "language": "python",
   "name": "python3"
  },
  "language_info": {
   "codemirror_mode": {
    "name": "ipython",
    "version": 3
   },
   "file_extension": ".py",
   "mimetype": "text/x-python",
   "name": "python",
   "nbconvert_exporter": "python",
   "pygments_lexer": "ipython3",
   "version": "3.9.12"
  }
 },
 "nbformat": 4,
 "nbformat_minor": 5
}
