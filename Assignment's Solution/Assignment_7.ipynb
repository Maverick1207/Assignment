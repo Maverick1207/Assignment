{
  "nbformat": 4,
  "nbformat_minor": 0,
  "metadata": {
    "colab": {
      "provenance": []
    },
    "kernelspec": {
      "name": "python3",
      "display_name": "Python 3"
    },
    "language_info": {
      "name": "python"
    }
  },
  "cells": [
    {
      "cell_type": "code",
      "execution_count": null,
      "metadata": {
        "id": "hVNftY6tCGfj"
      },
      "outputs": [],
      "source": []
    },
    {
      "cell_type": "markdown",
      "source": [
        "### Assignment - 7"
      ],
      "metadata": {
        "id": "yIHYrnZiHdzk"
      }
    },
    {
      "cell_type": "markdown",
      "source": [
        "# Q.1- What is the name of the feature responsible for generating Regex objects?\n",
        "\n",
        "\n",
        "**Ans**- \n",
        "The 're' module in Python is responsible for generating Regex objects."
      ],
      "metadata": {
        "id": "OJvbCUslGpp_"
      }
    },
    {
      "cell_type": "markdown",
      "source": [
        "\n",
        "# Q.2- Why do raw strings often appear in Regex objects?\n",
        "\n",
        "**Ans**- \n",
        "\n",
        "Raw strings are often used in Regex objects because they allow backslashes to be treated as literal characters instead of \n",
        "escape characters. Since regular expressions often contain many backslashes, using a raw string makes it easier to write and \n",
        "read the expression. For example, the regular expression \"\\d\" matches a single digit, but in a regular string, the backslash\n",
        "must be escaped like this: \"\\\\d\". In a raw string, however, the backslash is treated as a literal character and doesn't \n",
        "need to be escaped, like this: r\"\\d\"."
      ],
      "metadata": {
        "id": "v1yTCMCrGxWG"
      }
    },
    {
      "cell_type": "markdown",
      "source": [
        "# Q.3 What is the return value of the search() method?\n",
        "# **Ans-**\n",
        "The `search()` method in Python's regular expression module returns a match object if it finds a match anywhere in the string, \n",
        "otherwise it returns None. The match object contains information about the match, \n",
        "including the location of the match and the matched text."
      ],
      "metadata": {
        "id": "CJv90LHmHTD_"
      }
    },
    {
      "cell_type": "markdown",
      "source": [
        "# Q.4. From a Match item, how do you get the actual strings that match the pattern?\n",
        "\n",
        "# Ans-\n",
        "\n",
        "You can get the actual strings that match the pattern from a Match item using the `group()` method. \n",
        "\\By default, `group()` returns the entire match. You can also pass an integer argument to `group()` \n",
        "to retrieve a specific captured group. Here's an example:\n",
        "\n"
      ],
      "metadata": {
        "id": "NDZkmeKnbr0B"
      }
    },
    {
      "cell_type": "code",
      "source": [
        "import re\n",
        "\n",
        "text = \"The quick brown fox jumps over the lazy dog.\"\n",
        "pattern = r\"quick (.*?) fox\"\n",
        "\n",
        "match = re.search(pattern, text)\n",
        "\n",
        "# Get entire match\n",
        "print(match.group())  # output: \"quick brown fox\"\n",
        "\n",
        "# Get captured group\n",
        "print(match.group(1))  # output: \"brown\""
      ],
      "metadata": {
        "colab": {
          "base_uri": "https://localhost:8080/"
        },
        "id": "xupiU4L2b2L2",
        "outputId": "840893eb-47b1-4428-af0c-eaffd259720e"
      },
      "execution_count": 2,
      "outputs": [
        {
          "output_type": "stream",
          "name": "stdout",
          "text": [
            "quick brown fox\n",
            "brown\n"
          ]
        }
      ]
    },
    {
      "cell_type": "markdown",
      "source": [
        "# 5. In the regex which created from the r'(\\d\\d\\d)-(\\d\\d\\d-\\d\\d\\d\\d)', what does group zero cover? Group 2? Group 1?\n",
        "\n",
        "# Ans-\n",
        "\n",
        "In the regex r'(\\d\\d\\d)-(\\d\\d\\d-\\d\\d\\d\\d)', group zero covers the entire string matched by the regular expression. \n",
        "Group 1 covers the first set of digits enclosed in parentheses, i.e., (\\d\\d\\d),\n",
        "and group 2 covers the second set of digits enclosed in parentheses, i.e., (\\d\\d\\d-\\d\\d\\d\\d)."
      ],
      "metadata": {
        "id": "02UoWjuqb4sr"
      }
    },
    {
      "cell_type": "markdown",
      "source": [
        "# Q.6. In standard expression syntax, parentheses and intervals have distinct meanings. \n",
        "# How can you tell a regex that you want it to fit real parentheses and periods?\n",
        "# Ans-\n",
        "In regex syntax, parentheses and periods have special meanings, \n",
        "so if you want to match these characters exactly, you need to use the escape character `\\` \n",
        "before them. For example, to match a literal period, you can use the regex `\\.`. \n",
        "Similarly, to match a literal open parenthesis, you can use `\\(` and to match a literal closing parenthesis, you can use `\\)`.\n",
        "\n",
        "So, to match real parentheses and periods in a regex, you need to escape them with a backslash character. Here's an example:\n",
        "\n",
        "\n",
        "\n"
      ],
      "metadata": {
        "id": "Y_fwgs_FcCac"
      }
    },
    {
      "cell_type": "code",
      "source": [
        "import re\n",
        "\n",
        "text = 'My email address is (sudheerkumar@gmail.com).'\n",
        "regex = r'\\(.*?\\)'\n",
        "match = re.search(regex, text)\n",
        "print(match.group(0))  # outputs: \"(sudheerkumar@gmail.com)\""
      ],
      "metadata": {
        "colab": {
          "base_uri": "https://localhost:8080/"
        },
        "id": "SagkA_f8b21h",
        "outputId": "ebc19d43-462f-4551-d24b-1c42e015fb3e"
      },
      "execution_count": 3,
      "outputs": [
        {
          "output_type": "stream",
          "name": "stdout",
          "text": [
            "(sudheerkumar@gmail.com)\n"
          ]
        }
      ]
    },
    {
      "cell_type": "markdown",
      "source": [
        "# Q.7. The findall() method returns a string list or a list of string tuples. What causes it to return one of the two options?\n",
        "\n",
        "# Ans-\n",
        "The findall() method returns a list of all non-overlapping matches in the input string. \n",
        "If the regular expression being searched contains no groups (i.e., no parentheses), \n",
        "then findall() will return a list of strings that match the entire regular expression.\n",
        "\n",
        "However, if the regular expression contains one or more groups, findall() will return a list of tuples. \n",
        "Each tuple represents a single match, and the elements of the tuple correspond to the groups in the regular expression. \n",
        "If a regular expression contains multiple groups, each tuple in the resulting list will contain multiple elements.\n",
        "\n",
        "\n"
      ],
      "metadata": {
        "id": "g1NrVgarcfW0"
      }
    },
    {
      "cell_type": "code",
      "source": [
        "import re\n",
        "\n",
        "# Example 1: find all occurrences of 'cat' or 'dog' in a string\n",
        "text = 'I have a cat and a dog. My friend has two cats.'\n",
        "regex = re.compile(r'cat|dog')\n",
        "result = regex.findall(text)\n",
        "print(result)  # Output: ['cat', 'dog', 'cat']\n",
        "\n",
        "# Example 2: find all occurrences of a pattern with groups in a string\n",
        "text = 'John has 4 apples and Jane has 3 oranges.'\n",
        "regex = re.compile(r'(\\w+) has (\\d+) (\\w+)')\n",
        "result = regex.findall(text)\n",
        "print(result)  # Output: [('John', '4', 'apples'), ('Jane', '3', 'oranges')]"
      ],
      "metadata": {
        "colab": {
          "base_uri": "https://localhost:8080/"
        },
        "id": "AoKUFUO2cUIX",
        "outputId": "49c8d6f1-33f5-4dc7-dafe-d114098b7fa4"
      },
      "execution_count": 4,
      "outputs": [
        {
          "output_type": "stream",
          "name": "stdout",
          "text": [
            "['cat', 'dog', 'cat']\n",
            "[('John', '4', 'apples'), ('Jane', '3', 'oranges')]\n"
          ]
        }
      ]
    },
    {
      "cell_type": "markdown",
      "source": [
        "# Q.8. In standard expressions, what does the | character mean?\n",
        "\n",
        "# Ans-\n",
        "\n",
        "In standard expressions, the `|` character means OR. It is used to specify multiple alternatives for matching in a regex.\n",
        "For example, the regex `cat|dog` matches either the word \"cat\" or the word \"dog\"."
      ],
      "metadata": {
        "id": "VEQxdKkncqUj"
      }
    },
    {
      "cell_type": "markdown",
      "source": [
        "# Q.9. In regular expressions, what does the character stand for?\n",
        "\n",
        "# Ans-\n",
        "In regular expressions, the ? character is known as the optional quantifier, \n",
        "which means the preceding character or group is optional, i.e., it may occur once or not at all.\n",
        "\n"
      ],
      "metadata": {
        "id": "Rfv-ldjgc2wQ"
      }
    },
    {
      "cell_type": "code",
      "source": [
        "#Example\n",
        "\n",
        "import re\n",
        "\n",
        "# matches the word 'color' with or without a 'u' after 'o'\n",
        "pattern = re.compile(r'colou?r')\n",
        "\n",
        "# test strings\n",
        "string1 = 'The color of the sky is blue.'\n",
        "string2 = 'The colour of the car is red.'\n",
        "\n",
        "# find all matches in string1\n",
        "matches1 = pattern.findall(string1)\n",
        "print(matches1)  # output: ['color']\n",
        "\n",
        "# find all matches in string2\n",
        "matches2 = pattern.findall(string2)\n",
        "print(matches2)  # output: ['colour']"
      ],
      "metadata": {
        "colab": {
          "base_uri": "https://localhost:8080/"
        },
        "id": "heEudZTQcnbk",
        "outputId": "2b7bfa85-8450-4171-f9a9-5972044c9099"
      },
      "execution_count": 5,
      "outputs": [
        {
          "output_type": "stream",
          "name": "stdout",
          "text": [
            "['color']\n",
            "['colour']\n"
          ]
        }
      ]
    },
    {
      "cell_type": "markdown",
      "source": [
        "# Q.10.In regular expressions, what is the difference between the + and * characters?\n",
        "\n",
        "# Ans-\n",
        "In regular expressions, the + and * characters are quantifiers used to match repeated occurrences of the preceding character or group.\n",
        "\n",
        "The * (asterisk) character matches zero or more occurrences of the preceding character or group. \n",
        "For example, the regular expression a* matches zero or more occurrences of the character 'a'. \n",
        "So, it would match an empty string '', 'a', 'aa', 'aaa', and so on.\n",
        "\n",
        "The + (plus) character matches one or more occurrences of the preceding character or group. \n",
        "For example, the regular expression a+ matches one or more occurrences of the character 'a'. \n",
        "So, it would match 'a', 'aa', 'aaa', and so on but not an empty string ''.\n",
        "\n",
        "\n"
      ],
      "metadata": {
        "id": "ScJ2j8OYdCsf"
      }
    },
    {
      "cell_type": "code",
      "source": [
        "# Here is a Python program that demonstrates the use of * and + characters in regular expressions:\n",
        "\n",
        "import re\n",
        "\n",
        "# The regular expression 'a*' matches zero or more occurrences of the character 'a'\n",
        "print(re.findall('a*', 'abracadabra')) # Output: ['a', '', 'a', '', '', '', 'a', '', '', '', '', '']\n",
        "  \n",
        "# The regular expression 'a+' matches one or more occurrences of the character 'a'\n",
        "print(re.findall('a+', 'abracadabra')) # Output: ['a', 'a', 'a', 'a']"
      ],
      "metadata": {
        "colab": {
          "base_uri": "https://localhost:8080/"
        },
        "id": "gotdrNwOc_14",
        "outputId": "dd1ae275-2f25-4026-b918-dd74a75d9518"
      },
      "execution_count": 6,
      "outputs": [
        {
          "output_type": "stream",
          "name": "stdout",
          "text": [
            "['a', '', '', 'a', '', 'a', '', 'a', '', '', 'a', '']\n",
            "['a', 'a', 'a', 'a', 'a']\n"
          ]
        }
      ]
    },
    {
      "cell_type": "markdown",
      "source": [
        "# Q.11. What is the difference between {4} and {4,5} in regular expression?\n",
        "\n",
        "# Ans-\n",
        "In regular expressions, {4} and {4,5} are both quantifiers that specify the number of times a preceding character or \n",
        "group should occur. \n",
        "\n",
        "The expression {4} specifies that the preceding character or group should occur exactly 4 times. \n",
        "For example, the regular expression '\\d{4}' would match any sequence of exactly four digits.\n",
        "\n",
        "On the other hand, {4,5} specifies that the preceding character or group should occur at least 4 times and at most 5 times.\n",
        "For example, the regular expression '\\w{4,5}' would match any sequence of alphanumeric characters that is between 4 and 5 \n",
        "characters long.\n",
        "\n",
        "In summary, {4} matches exactly 4 occurrences of the preceding character or group, while {4,5} \n",
        "matches between 4 and 5 occurrences of the preceding character or group.\n",
        "\n",
        "\n"
      ],
      "metadata": {
        "id": "hUUOW8FYdO8z"
      }
    },
    {
      "cell_type": "code",
      "source": [
        "import re\n",
        "\n",
        "# Match a string that contains exactly four 'a' characters\n",
        "pattern1 = r'a{4}'\n",
        "text1 = 'aaaabbbb'\n",
        "match1 = re.search(pattern1, text1)\n",
        "print(match1)  # Match found: <re.Match object; span=(0, 4), match='aaaa'>\n",
        "\n",
        "# Match a string that contains between four and five 'a' characters\n",
        "pattern2 = r'a{4,5}'\n",
        "text2 = 'aaaaaabbbbb'\n",
        "match2 = re.search(pattern2, text2)\n",
        "print(match2)  # Match found: <re.Match object; span=(0, 5), match='aaaaa'>"
      ],
      "metadata": {
        "colab": {
          "base_uri": "https://localhost:8080/"
        },
        "id": "FSM8RcSodODA",
        "outputId": "156eeb68-7640-4d7f-b9eb-636ebf67e539"
      },
      "execution_count": 7,
      "outputs": [
        {
          "output_type": "stream",
          "name": "stdout",
          "text": [
            "<re.Match object; span=(0, 4), match='aaaa'>\n",
            "<re.Match object; span=(0, 5), match='aaaaa'>\n"
          ]
        }
      ]
    },
    {
      "cell_type": "markdown",
      "source": [
        "### Q.12. What do you mean by the \\d, \\w, and \\s shorthand character classes signify in regular expressions?\n",
        "\n",
        "# Ans-\n",
        "\n",
        "In regular expressions, shorthand character classes such as \\d, \\w, and \\s are used to represent common character sets.\n",
        "\n",
        "\\d represents any digit character (0-9).\n",
        "\n",
        "\\w represents any word character, which includes alphanumeric characters (A-Z, a-z, 0-9) and underscore (_).\n",
        "\n",
        "\\s represents any whitespace character, including spaces, tabs, and newlines."
      ],
      "metadata": {
        "id": "HZfYHm6Udbxr"
      }
    },
    {
      "cell_type": "markdown",
      "source": [
        "# Q.13. What do means by \\D, \\W, and \\S shorthand character classes signify in regular expressions?\n",
        "\n",
        "# Ans-\n",
        "\n",
        "In regular expressions, the shorthand character classes \\D, \\W, and \\S represent the opposite of \\d, \\w, and \\s, respectively.\n",
        "\n",
        "\\D matches any non-digit character, equivalent to the character set [^0-9].\n",
        "\n",
        "\\W matches any non-word character, equivalent to the character set [^a-zA-Z0-9_].\n",
        "\n",
        "\\S matches any non-whitespace character, equivalent to the character set [^ \\t\\n\\r\\f\\v].\n"
      ],
      "metadata": {
        "id": "zGUuQfDFdl2Z"
      }
    },
    {
      "cell_type": "markdown",
      "source": [
        "# Q.14. What is the difference between .*? and .*?\n",
        "\n",
        "# Ans-\n",
        "\n",
        "In regular expressions, .* is a greedy match that will match as much text as possible, \n",
        "while still allowing the overall pattern to match. On the other hand, .*? is a non-greedy or \n",
        "lazy match that will match as little text as possible, while still allowing the overall pattern to match."
      ],
      "metadata": {
        "id": "KVBZ3BVmdvvu"
      }
    },
    {
      "cell_type": "markdown",
      "source": [
        "# Q.15. What is the syntax for matching both numbers and lowercase letters with a character class?\n",
        "\n",
        "\n",
        "\n",
        "\n"
      ],
      "metadata": {
        "id": "6i0HllUJd4z6"
      }
    },
    {
      "cell_type": "code",
      "source": [
        "import re\n",
        "\n",
        "string = 'The Quick Brown fox jumps over The lazy Dog 12_3 times.'\n",
        "\n",
        "# Match all occurrences of digits and lowercase letters\n",
        "matches = re.findall('[0-9a-z]', string)\n",
        "\n",
        "# Print the matches\n",
        "print(matches)"
      ],
      "metadata": {
        "colab": {
          "base_uri": "https://localhost:8080/"
        },
        "id": "NAGC7kEjda4B",
        "outputId": "6fec773a-72bb-4d9e-ee1b-b6598558b266"
      },
      "execution_count": 8,
      "outputs": [
        {
          "output_type": "stream",
          "name": "stdout",
          "text": [
            "['h', 'e', 'u', 'i', 'c', 'k', 'r', 'o', 'w', 'n', 'f', 'o', 'x', 'j', 'u', 'm', 'p', 's', 'o', 'v', 'e', 'r', 'h', 'e', 'l', 'a', 'z', 'y', 'o', 'g', '1', '2', '3', 't', 'i', 'm', 'e', 's']\n"
          ]
        }
      ]
    },
    {
      "cell_type": "markdown",
      "source": [
        "# 16. What is the procedure for making a normal expression in regax case insensitive?\n",
        "\n",
        "# Ans-\n",
        "\n"
      ],
      "metadata": {
        "id": "b9ZJAHgheCeT"
      }
    },
    {
      "cell_type": "code",
      "source": [
        "import re\n",
        "\n",
        "# Create a regex pattern that matches \"hello\" in a case-insensitive way\n",
        "pattern = re.compile(\"hello\", re.IGNORECASE)\n",
        "\n",
        "# Use the pattern to search for matches in a string\n",
        "match = pattern.search(\"Hello, world!\")\n",
        "\n",
        "# Print the match\n",
        "print(match.group(0)) # Output: \"Hello\""
      ],
      "metadata": {
        "colab": {
          "base_uri": "https://localhost:8080/"
        },
        "id": "UPlIyE5Nd_dv",
        "outputId": "34cd9afd-915c-48c5-9320-8613136c586a"
      },
      "execution_count": 9,
      "outputs": [
        {
          "output_type": "stream",
          "name": "stdout",
          "text": [
            "Hello\n"
          ]
        }
      ]
    },
    {
      "cell_type": "markdown",
      "source": [
        "# Q.17. What does the . character normally match? What does it match if re.DOTALL is passed as 2nd argument in re.compile()?\n",
        "\n",
        "# Ans-\n",
        "\n",
        "The . character in regular expressions normally matches any character except for a newline (\\n).\n",
        "However, if the re.DOTALL flag is passed as the second argument in the re.compile() function, then the . \n",
        "character will match any character, including a newline.\n",
        "\n",
        "\n"
      ],
      "metadata": {
        "id": "Cr_iH8rNeKA0"
      }
    },
    {
      "cell_type": "code",
      "source": [
        "import re\n",
        "\n",
        "text = 'Hello\\nworld'\n",
        "\n",
        "# Match any character except for newline\n",
        "pattern1 = re.compile(r'.+')\n",
        "print(pattern1.findall(text))  # Output: ['Hello']\n",
        "\n",
        "# Match any character including newline\n",
        "pattern2 = re.compile(r'.+', re.DOTALL)\n",
        "print(pattern2.findall(text))  # Output: ['Hello\\nworld']"
      ],
      "metadata": {
        "colab": {
          "base_uri": "https://localhost:8080/"
        },
        "id": "bD5kZt-beHqd",
        "outputId": "49978c2d-28ed-4163-eed7-831d717e4625"
      },
      "execution_count": 10,
      "outputs": [
        {
          "output_type": "stream",
          "name": "stdout",
          "text": [
            "['Hello', 'world']\n",
            "['Hello\\nworld']\n"
          ]
        }
      ]
    },
    {
      "cell_type": "markdown",
      "source": [
        "# Q.18. If numReg = re.compile(r'\\d+'), what will numRegex.sub('X', '11 drummers, 10 pipers, five rings, 4 hen') return?\n",
        "\n",
        "# Ans-\n",
        "\n",
        "The numRegex.sub('X', '11 drummers, 10 pipers, five rings, 4 hen') function call will replace all occurrences of one \n",
        "or more digits with the character 'X' in the provided string.\n",
        "\n",
        "\n"
      ],
      "metadata": {
        "id": "23JGFI3KeRhO"
      }
    },
    {
      "cell_type": "code",
      "source": [
        "#DEmo\n",
        "\n",
        "import re\n",
        "\n",
        "numRegex = re.compile(r'\\d+')\n",
        "result = numRegex.sub('X', '11 drummers, 10 pipers, five rings, 4 hen')\n",
        "\n",
        "print(result)"
      ],
      "metadata": {
        "colab": {
          "base_uri": "https://localhost:8080/"
        },
        "id": "5WxoF_QEePRd",
        "outputId": "c5d36bcb-456a-4f33-9610-b185d6fc06e6"
      },
      "execution_count": 11,
      "outputs": [
        {
          "output_type": "stream",
          "name": "stdout",
          "text": [
            "X drummers, X pipers, five rings, X hen\n"
          ]
        }
      ]
    },
    {
      "cell_type": "markdown",
      "source": [
        "# Q.19. What does passing re.VERBOSE as the 2nd argument to re.compile() allow to do?\n",
        "\n",
        "\n",
        "# Ans-\n",
        "\n",
        "Passing re.VERBOSE as the second argument to re.compile() allows for verbose mode, \n",
        "which allows you to write regular expressions in a more readable and organized manner.\n",
        "\n",
        "When re.VERBOSE is used, whitespace and comments are ignored within the regular expression string. \n",
        "This allows you to add comments to your regex and break it down into multiple lines without affecting the pattern matching.\n",
        "\n"
      ],
      "metadata": {
        "id": "rmma_706edmg"
      }
    },
    {
      "cell_type": "code",
      "source": [
        "#Example\n",
        "\n",
        "import re\n",
        "\n",
        "# Define a regular expression pattern using re.VERBOSE to make it more readable\n",
        "pattern = re.compile(r'''\n",
        "    \\d{3}    # Match three digits\n",
        "    [-\\s]?   # Match either a dash or a space character (optional)\n",
        "    \\d{4}    # Match four digits\n",
        "''', re.VERBOSE)\n",
        "\n",
        "# Test the pattern against a string\n",
        "phone_numbers = 'John: 123-456-7890, Jane: 555 1234, Bob: 888-555-4321'\n",
        "matches = pattern.findall(phone_numbers)\n",
        "\n",
        "# Print the results\n",
        "for match in matches:\n",
        "    print(match)"
      ],
      "metadata": {
        "colab": {
          "base_uri": "https://localhost:8080/"
        },
        "id": "L9N46WmUeYNO",
        "outputId": "8a8d890c-e30e-417f-9be0-8bf891c8a3ac"
      },
      "execution_count": 12,
      "outputs": [
        {
          "output_type": "stream",
          "name": "stdout",
          "text": [
            "456-7890\n",
            "555 1234\n",
            "555-4321\n"
          ]
        }
      ]
    },
    {
      "cell_type": "markdown",
      "source": [
        "# Q.20. How would you write a regex that match a number with comma for every three digits? It must match the given following:\n",
        "'42'\n",
        "'1,234'\n",
        "'6,368,745'\n",
        "but not the following:\n",
        "'12,34,567' (which has only two digits between the commas)\n",
        "'1234' (which lacks commas)\n",
        "\n",
        "\n",
        "# ANs-"
      ],
      "metadata": {
        "id": "jcYMioQveotq"
      }
    },
    {
      "cell_type": "code",
      "source": [
        "import re\n",
        "\n",
        "pattern = re.compile(r'^\\d{1,3}(,\\d{3})*$')\n",
        "\n",
        "# Test the pattern\n",
        "tests = ['42', '1,234', '6,368,745', '12,34,567', '1234']\n",
        "for test in tests:\n",
        "    if pattern.match(test):\n",
        "        print(f\"{test} matches\")\n",
        "    else:\n",
        "        print(f\"{test} does not match\")"
      ],
      "metadata": {
        "colab": {
          "base_uri": "https://localhost:8080/"
        },
        "id": "klUESwuXeh9y",
        "outputId": "7dffc674-3148-4271-e649-1992f1e7c0d3"
      },
      "execution_count": 13,
      "outputs": [
        {
          "output_type": "stream",
          "name": "stdout",
          "text": [
            "42 matches\n",
            "1,234 matches\n",
            "6,368,745 matches\n",
            "12,34,567 does not match\n",
            "1234 does not match\n"
          ]
        }
      ]
    },
    {
      "cell_type": "markdown",
      "source": [
        "# Q.21. How would you write a regex that matches the full name of someone whose last name is Watanabe? You can assume that the first name that comes before it will always be one word that begins with a capital letter. The regex must match the following:\n",
        "'Haruto Watanabe'\n",
        "'Alice Watanabe'\n",
        "'RoboCop Watanabe'\n",
        "but not the following:\n",
        "'haruto Watanabe' (where the first name is not capitalized)\n",
        "'Mr. Watanabe' (where the preceding word has a nonletter character)\n",
        "'Watanabe' (which has no first name)\n",
        "'Haruto watanabe' (where Watanabe is not capitalized)\n"
      ],
      "metadata": {
        "id": "7m1Dtploe113"
      }
    },
    {
      "cell_type": "code",
      "source": [
        "import re\n",
        "\n",
        "name_regex = re.compile(r'[A-Z][a-zA-Z]*\\sWatanabe')\n",
        "\n",
        "# Test cases\n",
        "print(name_regex.search('Haruto Watanabe'))  # Match\n",
        "print(name_regex.search('Alice Watanabe'))  # Match\n",
        "print(name_regex.search('RoboCop Watanabe'))  # Match\n",
        "print(name_regex.search('haruto Watanabe'))  # No match (first name is not capitalized)\n",
        "print(name_regex.search('Mr. Watanabe'))  # No match (preceding word has a non-letter character)\n",
        "print(name_regex.search('Watanabe'))  # No match (no first name)\n",
        "print(name_regex.search('Haruto watanabe'))  # No match (last name is not capitalized)\n"
      ],
      "metadata": {
        "colab": {
          "base_uri": "https://localhost:8080/"
        },
        "id": "cuL7qgm0ex83",
        "outputId": "440d9db6-7da6-4b62-956e-e7f4595245d6"
      },
      "execution_count": 14,
      "outputs": [
        {
          "output_type": "stream",
          "name": "stdout",
          "text": [
            "<re.Match object; span=(0, 15), match='Haruto Watanabe'>\n",
            "<re.Match object; span=(0, 14), match='Alice Watanabe'>\n",
            "<re.Match object; span=(0, 16), match='RoboCop Watanabe'>\n",
            "None\n",
            "None\n",
            "None\n",
            "None\n"
          ]
        }
      ]
    },
    {
      "cell_type": "markdown",
      "source": [
        "# Q.22. How would you write a regex that matches a sentence where the first word is either Alice, Bob, or Carol; the second word is either eats, pets, or throws; the third word is apples, cats, or baseballs; and the sentence ends with a period? This regex should be case-insensitive. It must match the following:\n",
        "'Alice eats apples.'\n",
        "'Bob pets cats.'\n",
        "'Carol throws baseballs.'\n",
        "'Alice throws Apples.'\n",
        "'BOB EATS CATS.'\n",
        "but not the following:\n",
        "'RoboCop eats apples.'\n",
        "'ALICE THROWS FOOTBALLS.'\n",
        "'Carol eats 7 cats.'\n"
      ],
      "metadata": {
        "id": "kiufHsG4fJ8N"
      }
    },
    {
      "cell_type": "code",
      "source": [
        "import re\n",
        "\n",
        "# Compile the regular expression\n",
        "regex = re.compile(r'^(Alice|Bob|Carol)\\s+(eats|pets|throws)\\s+(apples|cats|baseballs)\\.$', re.IGNORECASE)\n",
        "\n",
        "# Test the regex with some example sentences\n",
        "sentences = [\n",
        "    'Alice eats apples.',\n",
        "    'Bob pets cats.',\n",
        "    'Carol throws baseballs.',\n",
        "    'Alice throws Apples.',\n",
        "    'BOB EATS CATS.',\n",
        "    'RoboCop eats apples.',\n",
        "    'ALICE THROWS FOOTBALLS.',\n",
        "    'Carol eats 7 cats.'\n",
        "]\n",
        "\n",
        "for sentence in sentences:\n",
        "    match = regex.search(sentence)\n",
        "    if match:\n",
        "        print(f'Match found: {match.group(0)}')\n",
        "    else:\n",
        "        print(f'No match found for: {sentence}')\n"
      ],
      "metadata": {
        "colab": {
          "base_uri": "https://localhost:8080/"
        },
        "id": "1AtFRLxtfF-y",
        "outputId": "1d849a4f-98c1-44d4-88df-461845b53c4c"
      },
      "execution_count": 15,
      "outputs": [
        {
          "output_type": "stream",
          "name": "stdout",
          "text": [
            "Match found: Alice eats apples.\n",
            "Match found: Bob pets cats.\n",
            "Match found: Carol throws baseballs.\n",
            "Match found: Alice throws Apples.\n",
            "Match found: BOB EATS CATS.\n",
            "No match found for: RoboCop eats apples.\n",
            "No match found for: ALICE THROWS FOOTBALLS.\n",
            "No match found for: Carol eats 7 cats.\n"
          ]
        }
      ]
    },
    {
      "cell_type": "code",
      "source": [],
      "metadata": {
        "id": "Uv104T8ZfhyR"
      },
      "execution_count": null,
      "outputs": []
    }
  ]
}