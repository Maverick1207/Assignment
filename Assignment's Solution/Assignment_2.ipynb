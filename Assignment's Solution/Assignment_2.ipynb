{
 "cells": [
  {
   "cell_type": "markdown",
   "id": "5259fdb7",
   "metadata": {},
   "source": [
    "1.What are the two values of the Boolean data type? How do you write them?"
   ]
  },
  {
   "cell_type": "raw",
   "id": "25dbb065",
   "metadata": {},
   "source": [
    "Answer-\n",
    "\n",
    "The two values of the Boolean data type are 'True' and 'False'. In Python, these values are written as keywords with the first letter capitalized.\n",
    "\n"
   ]
  },
  {
   "cell_type": "code",
   "execution_count": 2,
   "id": "42fefa4d",
   "metadata": {},
   "outputs": [
    {
     "name": "stdout",
     "output_type": "stream",
     "text": [
      "is_sunny = True\n",
      "is_raining = False\n"
     ]
    }
   ],
   "source": [
    "# Assign the value True to a variable\n",
    "is_sunny = True\n",
    "\n",
    "# Assign the value False to a variable\n",
    "is_raining = False\n",
    "\n",
    "# Print the values of the variables\n",
    "print(\"is_sunny =\", is_sunny)\n",
    "print(\"is_raining =\", is_raining)"
   ]
  },
  {
   "cell_type": "code",
   "execution_count": null,
   "id": "cf78f1e3",
   "metadata": {},
   "outputs": [],
   "source": []
  },
  {
   "cell_type": "code",
   "execution_count": 3,
   "id": "7e4795cb",
   "metadata": {},
   "outputs": [
    {
     "ename": "SyntaxError",
     "evalue": "invalid syntax (1841312907.py, line 3)",
     "output_type": "error",
     "traceback": [
      "\u001b[1;36m  Input \u001b[1;32mIn [3]\u001b[1;36m\u001b[0m\n\u001b[1;33m    Answer-\u001b[0m\n\u001b[1;37m            ^\u001b[0m\n\u001b[1;31mSyntaxError\u001b[0m\u001b[1;31m:\u001b[0m invalid syntax\n"
     ]
    }
   ],
   "source": [
    "#2. What are the three different types of Boolean operators?\n",
    "\n",
    "Answer- \n",
    "\n",
    "1- AND operator (and): This operator returns True if both operands are True, and False otherwise. \n",
    "    In Python, the and keyword is used for the Boolean AND operation.\n",
    "\n",
    "2- OR operator (or): This operator returns True if at least one of the operands is True, and False otherwise. \n",
    "    In Python, the or keyword is used for the Boolean OR operation.\n",
    "\n",
    "3- NOT operator (not): This operator returns the opposite Boolean value of its operand. \n",
    "    If the operand is True, not returns False, and if the operand is False, not returns True. \n",
    "    In Python, the not keyword is used for the Boolean NOT operation.\n",
    "\n",
    "Boolean operators are commonly used in conditional statements and logical expressions to combine \n",
    "multiple conditions and evaluate them as a single Boolean value. \n",
    "For example, you might use the Boolean AND operator to check if two conditions are both true, \n",
    "or the Boolean OR operator to check if at least one of two conditions is true."
   ]
  },
  {
   "cell_type": "code",
   "execution_count": 4,
   "id": "ceb3fb46",
   "metadata": {},
   "outputs": [
    {
     "ename": "SyntaxError",
     "evalue": "invalid syntax (1009529342.py, line 5)",
     "output_type": "error",
     "traceback": [
      "\u001b[1;36m  Input \u001b[1;32mIn [4]\u001b[1;36m\u001b[0m\n\u001b[1;33m    Answer-\u001b[0m\n\u001b[1;37m           ^\u001b[0m\n\u001b[1;31mSyntaxError\u001b[0m\u001b[1;31m:\u001b[0m invalid syntax\n"
     ]
    }
   ],
   "source": [
    "#3. Make a list of each Boolean operator's truth tables \n",
    "#(i.e. every possible combination of Boolean values for the operator and what it evaluate ).\n",
    "\n",
    "\n",
    "Answer-\n",
    "\n",
    "Here are the truth tables for each Boolean operator:\n",
    "    \n",
    "1-   AND operator (and)\n",
    "\n",
    "| Operand 1 | Operand 2 | Result   |\n",
    "|-----------|-----------|----------|\n",
    "| True      | True      | True     |\n",
    "| True      | False     | False    |\n",
    "| False     | True      | False    |\n",
    "| False     | False     | False    |\n",
    "The and operator returns True only if both operands are True. Otherwise, it returns False.\n",
    "\n",
    "\n",
    "2-  OR operator (or)\n",
    "\n",
    "| Operand 1 | Operand 2 | Result   |\n",
    "|-----------|-----------|----------|\n",
    "| True      | True      | True     |\n",
    "| True      | False     | True     |\n",
    "| False     | True      | True     |\n",
    "| False     | False     | False    |\n",
    "The or operator returns True if at least one of the operands is True. Otherwise, it returns False.\n",
    "\n",
    "\n",
    "3-   NOT operator (not)\n",
    "\n",
    "| Operand | Result |\n",
    "|---------|--------|\n",
    "| True    | False  |\n",
    "| False   | True   |\n",
    "\n",
    "The not operator returns the opposite Boolean value of its operand.\n",
    "If the operand is True, not returns False, and if the operand is False, not returns True.\n",
    "\n",
    "\n",
    "\n",
    "\n",
    "\n"
   ]
  },
  {
   "cell_type": "code",
   "execution_count": null,
   "id": "acad6ad6",
   "metadata": {},
   "outputs": [],
   "source": [
    "# 4- What are the values of the following expressions?\n",
    "\n",
    "#(5 > 4) and (3 == 5)\n",
    "#not (5 > 4)\n",
    "#(5 > 4) or (3 == 5)\n",
    "#not ((5 > 4) or (3 == 5))\n",
    "#(True and True) and (True == False)\n",
    "#(not False) or (not True)\n",
    "\n",
    "\n",
    "Answer-\n",
    "\n",
    "1- \n",
    "(5 > 4) and (3 == 5) evaluates to False because the first condition is True (5 is greater than 4) \n",
    "but the second condition is False (3 is not equal to 5), & and requires both conditions to be True to return True.\n",
    "\n",
    "2-\n",
    "not (5 > 4) evaluates to False because the condition 5 > 4 is True, but not returns the opposite Boolean value.\n",
    "\n",
    "3-\n",
    "(5 > 4) or (3 == 5) evaluates to True because at least one of the conditions is True. \n",
    "In this case, the first condition is True.\n",
    "\n",
    "4-\n",
    "not ((5 > 4) or (3 == 5)) evaluates to False because the condition (5 > 4) or (3 == 5) is True, \n",
    "but not returns the opposite Boolean value.\n",
    "\n",
    "5-\n",
    "(True and True) and (True == False) evaluates to False because the second condition True == False is False, \n",
    "and and requires both conditions to be True to return True.\n",
    "\n",
    "6-\n",
    "(not False) or (not True) evaluates to True because at least one of the conditions is True. \n",
    "In this case, the first condition not False is True."
   ]
  },
  {
   "cell_type": "code",
   "execution_count": null,
   "id": "70ef1b1a",
   "metadata": {},
   "outputs": [],
   "source": [
    "#5. What are the six comparison operators?\n",
    "\n",
    "Answer-\n",
    "\n",
    "> greater than\n",
    "< less than\n",
    ">= greater than or equal to\n",
    "<= less than or equal to\n",
    "== equal to\n",
    "!= not equal to"
   ]
  },
  {
   "cell_type": "code",
   "execution_count": null,
   "id": "29ca541f",
   "metadata": {},
   "outputs": [],
   "source": [
    "#6. How do you tell the difference between the equal to and assignment operators?Describe a condition and \n",
    "#when you would use one.\n",
    "\n",
    "Answer-\n",
    "\n",
    "The equal to operator (==) is used to compare two values to see if they are equal, \n",
    "whereas the assignment operator (=) is used to assign a value to a variable.\n",
    "\n",
    "The below example, the assignment operator is used to assign the value 5 to the variable x. \n",
    "The equal to operator is used to compare the value of x to the value 5 in the if statement.\n",
    "\n",
    "The condition in this example is that if x is equal to 5, then the code block inside the if statement\n",
    "will execute and print \"x is equal to 5\". This is an example of using the equal to operator to compare two \n",
    "values to determine whether they are equal."
   ]
  },
  {
   "cell_type": "code",
   "execution_count": 5,
   "id": "bce5a20f",
   "metadata": {},
   "outputs": [
    {
     "name": "stdout",
     "output_type": "stream",
     "text": [
      "x is equal to 5\n"
     ]
    }
   ],
   "source": [
    "x = 5  # assignment operator assigns the value 5 to variable x\n",
    "if x == 5:  # equal to operator compares the value of x to the value 5\n",
    "    print(\"x is equal to 5\")"
   ]
  },
  {
   "cell_type": "code",
   "execution_count": 6,
   "id": "7c225107",
   "metadata": {},
   "outputs": [
    {
     "name": "stdout",
     "output_type": "stream",
     "text": [
      "ham\n",
      "spam\n",
      "spam\n"
     ]
    }
   ],
   "source": [
    "#7. Identify the three blocks in this code:\n",
    "#spam = 0\n",
    "#if spam == 10:\n",
    "#print('eggs')\n",
    "#if spam > 5:\n",
    "#print('bacon')\n",
    "#else:\n",
    "#print('ham')\n",
    "#print('spam')\n",
    "#print('spam')\n",
    "\n",
    "Answer-\n",
    "\n",
    "#Block-1\n",
    "spam = 0\n",
    "if spam == 10:\n",
    "    print('eggs')\n",
    "#This block contains two print() statements that print the string 'spam' twice. \n",
    "#These statements are executed regardless of the value of spam.\n",
    "\n",
    "    \n",
    "#Block-2\n",
    "if spam > 5:\n",
    "    print('bacon')\n",
    "else:\n",
    "    print('ham')\n",
    "#This block checks if the value of spam is greater than 5. \n",
    "#Since the value of spam is not greater than 5, the else block is executed and the print('ham') statement is executed.\n",
    "    \n",
    "\n",
    "#Block-3\n",
    "print('spam')\n",
    "print('spam')\n",
    "#This block contains two print() statements that print the string 'spam' twice. \n",
    "#These statements are executed regardless of the value of spam."
   ]
  },
  {
   "cell_type": "code",
   "execution_count": 7,
   "id": "47d472a5",
   "metadata": {},
   "outputs": [
    {
     "name": "stdout",
     "output_type": "stream",
     "text": [
      "Hello\n",
      "Howdy\n",
      "Greetings!\n"
     ]
    }
   ],
   "source": [
    "#8. Write code that prints Hello if 1 is stored in spam, prints Howdy if 2 is stored in spam, \n",
    "#and prints Greetings! if anything else is stored in spam.\n",
    "\n",
    "\n",
    "Answer-\n",
    "In this program, we define a function greet() that takes one argument spam. \n",
    "Inside the function, we use if, elif, and else statements to check the value of spam and print the appropriate message.\n",
    "\n",
    "Finally, we call the greet() function with different values of spam to test it.\n",
    "\n",
    "def greet(spam):\n",
    "    if spam == 1:\n",
    "        print(\"Hello\")\n",
    "    elif spam == 2:\n",
    "        print(\"Howdy\")\n",
    "    else:\n",
    "        print(\"Greetings!\")\n",
    "\n",
    "# Call the function with different values of spam\n",
    "greet(1)  # prints Hello\n",
    "greet(2)  # prints Howdy\n",
    "greet(3)  # prints Greetings!"
   ]
  },
  {
   "cell_type": "code",
   "execution_count": null,
   "id": "aa42dea6",
   "metadata": {},
   "outputs": [],
   "source": [
    "#9.If your programme is stuck in an endless loop, what keys you’ll press?\n",
    "\n",
    "Answer-\n",
    "If a program is stuck in an endless loop, we can press the Ctrl + C keys on the keyboard to send an \n",
    "interrupt signal to the program and force it to stop. \n",
    "This is called a keyboard interrupt and it works on most operating systems.\n",
    "\n",
    "Alternatively, we can also try closing the terminal or command prompt window where the program is running."
   ]
  },
  {
   "cell_type": "code",
   "execution_count": 9,
   "id": "2eeae58a",
   "metadata": {},
   "outputs": [
    {
     "name": "stdout",
     "output_type": "stream",
     "text": [
      "1\n",
      "3\n",
      "5\n",
      "7\n"
     ]
    }
   ],
   "source": [
    "#10. How can you tell the difference between break and continue?\n",
    "\n",
    "Answer-\n",
    "The main difference between break and continue is that break is used to exit a loop completely, \n",
    "while, continue is used to skip the current iteration and move on to the next one.\n",
    "\n",
    "#here is a program\n",
    "\n",
    "def print_odd_numbers():\n",
    "    for i in range(1, 11):\n",
    "        if i % 2 == 0:\n",
    "            continue  # Skip even numbers\n",
    "        print(i)\n",
    "        if i == 7:\n",
    "            break  # Stop looping at 7\n",
    "\n",
    "print_odd_numbers()"
   ]
  },
  {
   "cell_type": "code",
   "execution_count": 10,
   "id": "f11ba484",
   "metadata": {},
   "outputs": [
    {
     "name": "stdout",
     "output_type": "stream",
     "text": [
      "Using range(10):\n",
      "0\n",
      "1\n",
      "2\n",
      "3\n",
      "4\n",
      "5\n",
      "6\n",
      "7\n",
      "8\n",
      "9\n",
      "Using range(0, 10):\n",
      "0\n",
      "1\n",
      "2\n",
      "3\n",
      "4\n",
      "5\n",
      "6\n",
      "7\n",
      "8\n",
      "9\n",
      "Using range(0, 10, 1):\n",
      "0\n",
      "1\n",
      "2\n",
      "3\n",
      "4\n",
      "5\n",
      "6\n",
      "7\n",
      "8\n",
      "9\n"
     ]
    }
   ],
   "source": [
    "#11. In a for loop, what is the difference between range(10), range(0, 10), and range(0, 10, 1)?\n",
    "\n",
    "Answer-\n",
    "In a for loop in Python, the range() function is used to generate a sequence of numbers that can be iterated over. \n",
    "Here's the difference between range(10), range(0, 10), and range(0, 10, 1):\n",
    "\n",
    ">>>range(10) generates a sequence of numbers from 0 to 9. \n",
    "It's a shorthand for range(0, 10, 1) and assumes that the start value is 0 and the step value is 1.\n",
    "\n",
    ">>>range(0, 10) generates a sequence of numbers from 0 to 9. \n",
    "It's the same as range(10) but explicitly sets the start value to 0.\n",
    "\n",
    ">>>range(0, 10, 1) generates a sequence of numbers from 0 to 9, with a step value of 1. \n",
    "The start argument is 0, the stop argument is 10, and the step argument is 1.\n",
    "\n",
    "\n",
    "\n",
    "def print_range(start, stop, step):\n",
    "    for i in range(start, stop, step):\n",
    "        print(i)\n",
    "\n",
    "print(\"Using range(10):\")\n",
    "print_range(0, 10, 1)\n",
    "\n",
    "print(\"Using range(0, 10):\")\n",
    "print_range(0, 10, 1)\n",
    "\n",
    "print(\"Using range(0, 10, 1):\")\n",
    "print_range(0, 10, 1)"
   ]
  },
  {
   "cell_type": "code",
   "execution_count": 16,
   "id": "ff93bc1c",
   "metadata": {},
   "outputs": [
    {
     "name": "stdout",
     "output_type": "stream",
     "text": [
      "1\n",
      "2\n",
      "3\n",
      "4\n",
      "5\n",
      "6\n",
      "7\n",
      "8\n",
      "9\n",
      "10\n",
      "1\n",
      "2\n",
      "3\n",
      "4\n",
      "5\n",
      "6\n",
      "7\n",
      "8\n",
      "9\n",
      "10\n"
     ]
    }
   ],
   "source": [
    "#12. Write a short program that prints the numbers 1 to 10 using a for loop. \n",
    "#Then write an equivalent program that prints the numbers 1 to 10 using a while loop.\n",
    "\n",
    "Answer-\n",
    "\n",
    "for i in range(1, 11):\n",
    "    print(i)\n",
    "    \n",
    "    \n",
    "\n",
    "i = 1\n",
    "while i <= 10:\n",
    "    print(i)\n",
    "    i += 1\n",
    "\n",
    "\n",
    "\n",
    "\n"
   ]
  },
  {
   "cell_type": "code",
   "execution_count": null,
   "id": "4a0aa039",
   "metadata": {},
   "outputs": [],
   "source": [
    "#13. If you had a function named bacon() inside a module named spam, how would you call it after importing spam?\n",
    "\n",
    "Answer-\n",
    "\n",
    "import spam\n",
    "\n",
    "spam.bacon()"
   ]
  },
  {
   "cell_type": "code",
   "execution_count": null,
   "id": "6b5aa21e",
   "metadata": {},
   "outputs": [],
   "source": []
  },
  {
   "cell_type": "code",
   "execution_count": null,
   "id": "6026afae",
   "metadata": {},
   "outputs": [],
   "source": []
  },
  {
   "cell_type": "code",
   "execution_count": null,
   "id": "d58273dd",
   "metadata": {},
   "outputs": [],
   "source": []
  },
  {
   "cell_type": "code",
   "execution_count": null,
   "id": "db66c78c",
   "metadata": {},
   "outputs": [],
   "source": []
  },
  {
   "cell_type": "code",
   "execution_count": null,
   "id": "8184821a",
   "metadata": {},
   "outputs": [],
   "source": []
  }
 ],
 "metadata": {
  "kernelspec": {
   "display_name": "Python 3 (ipykernel)",
   "language": "python",
   "name": "python3"
  },
  "language_info": {
   "codemirror_mode": {
    "name": "ipython",
    "version": 3
   },
   "file_extension": ".py",
   "mimetype": "text/x-python",
   "name": "python",
   "nbconvert_exporter": "python",
   "pygments_lexer": "ipython3",
   "version": "3.9.12"
  }
 },
 "nbformat": 4,
 "nbformat_minor": 5
}
