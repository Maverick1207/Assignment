{
 "cells": [
  {
   "cell_type": "code",
   "execution_count": 1,
   "id": "75ba39b6",
   "metadata": {},
   "outputs": [
    {
     "name": "stdout",
     "output_type": "stream",
     "text": [
      "{'name': 'John', 'age': 30}\n"
     ]
    }
   ],
   "source": [
    "#1. What does an empty dictionary's code look like?\n",
    "\n",
    "Answer-\n",
    "\n",
    "An empty dictionary is a dictionary that has no key-value pairs. There are two ways to create an empty dictionary in Python:\n",
    "    \n",
    "Using curly brackets {} without any elements inside. For example: emptyDict = {}\n",
    "Using the built-in function dict() without any arguments. For example: emptyDict = dict()\n",
    "    \n",
    "    \n",
    "    \n",
    "# Creating an empty dictionary\n",
    "my_dict = {}\n",
    "\n",
    "# Adding key-value pairs to the dictionary\n",
    "my_dict['name'] = 'John'\n",
    "my_dict['age'] = 30\n",
    "\n",
    "# Printing the dictionary\n",
    "print(my_dict)"
   ]
  },
  {
   "cell_type": "code",
   "execution_count": 27,
   "id": "a0c4772e",
   "metadata": {},
   "outputs": [
    {
     "ename": "SyntaxError",
     "evalue": "invalid character '‘' (U+2018) (394331956.py, line 5)",
     "output_type": "error",
     "traceback": [
      "\u001b[1;36m  Cell \u001b[1;32mIn[27], line 5\u001b[1;36m\u001b[0m\n\u001b[1;33m    The value of a dictionary value with the key ‘foo’ and the value 42 is 42.\u001b[0m\n\u001b[1;37m                                                 ^\u001b[0m\n\u001b[1;31mSyntaxError\u001b[0m\u001b[1;31m:\u001b[0m invalid character '‘' (U+2018)\n"
     ]
    }
   ],
   "source": [
    "#2. What is the value of a dictionary value with the key 'foo' and the value 42?\n",
    "\n",
    "Answer-\n",
    "\n",
    "The value of a dictionary value with the key ‘foo’ and the value 42 is 42. \n",
    "w can access the value of a dictionary item by using the key inside square brackets. \n",
    "For example:\n",
    "\n",
    "myDict = {'foo': 42, 'bar': 24}\n",
    "print(myDict['foo']) # prints 42"
   ]
  },
  {
   "cell_type": "code",
   "execution_count": 10,
   "id": "f38244da",
   "metadata": {},
   "outputs": [
    {
     "name": "stdout",
     "output_type": "stream",
     "text": [
      "List elements: banana\n",
      "Dict elements: 2\n",
      "Modifying list elements: ['apple', 'orange', 'cherry']\n",
      "Modifying dict elements: {'apple': 1, 'banana': 4, 'cherry': 3}\n",
      "adding list elements: ['apple', 'orange', 'cherry', 'kiwi']\n",
      "adding dict elements: {'apple': 1, 'banana': 4, 'cherry': 3, 'kiwi': 5}\n",
      "Removing list elements: ['apple', 'cherry', 'kiwi']\n",
      "Removing dict elements: {'apple': 1, 'cherry': 3, 'kiwi': 5}\n",
      "length of List elements: 3\n",
      "length of Dict elements: 3\n"
     ]
    }
   ],
   "source": [
    "#3. What is the most significant distinction between a dictionary and a list?\n",
    "\n",
    "1- Accessing elements: a list accesses elements by their index (position), \n",
    "    while a dictionary accesses elements by their key (name)\n",
    "2- Modifying elements: we can modify a list element by assigning a new value to its index, \n",
    "    while we can modify a dictionary element by assigning a new value to its key\n",
    "3- Adding elements: we can add elements to a list using the append() method, \n",
    "    while we can add elements to a dictionary by assigning a new key-value pair\n",
    "4- Removing elements: we can remove a list element by using the pop() method or the del statement, \n",
    "    while we can remove a dictionary element using the del statement\n",
    "5- Length: we can get the length of a list or a dictionary using the len() function.\n",
    "\n",
    "\n",
    "# List example\n",
    "fruits_list = [\"apple\", \"banana\", \"cherry\"]\n",
    "print('List elements:',fruits_list[1])  # Output: \"banana\"\n",
    "\n",
    "# Dictionary example\n",
    "fruits_dict = {\"apple\": 1, \"banana\": 2, \"cherry\": 3}\n",
    "print('Dict elements:',fruits_dict[\"banana\"])  # Output: 2\n",
    "\n",
    "# Accessing elements\n",
    "# List: access elements by their index (position)\n",
    "# Dictionary: access elements by their key (name)\n",
    "\n",
    "# Modifying elements\n",
    "fruits_list[1] = \"orange\"\n",
    "print('Modifying list elements:',fruits_list)  # Output: [\"apple\", \"orange\", \"cherry\"]\n",
    "\n",
    "fruits_dict[\"banana\"] = 4\n",
    "print('Modifying dict elements:',fruits_dict)  # Output: {\"apple\": 1, \"banana\": 4, \"cherry\": 3}\n",
    "\n",
    "# Adding elements\n",
    "fruits_list.append(\"kiwi\")\n",
    "print('adding list elements:',fruits_list)  # Output: [\"apple\", \"orange\", \"cherry\", \"kiwi\"]\n",
    "\n",
    "fruits_dict[\"kiwi\"] = 5\n",
    "print('adding dict elements:',fruits_dict)  # Output: {\"apple\": 1, \"banana\": 4, \"cherry\": 3, \"kiwi\": 5}\n",
    "\n",
    "# Removing elements\n",
    "fruits_list.pop(1)\n",
    "print('Removing list elements:',fruits_list)  # Output: [\"apple\", \"cherry\", \"kiwi\"]\n",
    "\n",
    "del fruits_dict[\"banana\"]\n",
    "print('Removing dict elements:',fruits_dict)  # Output: {\"apple\": 1, \"cherry\": 3, \"kiwi\": 5}\n",
    "\n",
    "# Length\n",
    "print('length of List elements:',len(fruits_list))  # Output: 3\n",
    "print('length of Dict elements:',len(fruits_dict))  # Output: 3\n"
   ]
  },
  {
   "cell_type": "code",
   "execution_count": 11,
   "id": "39645a31",
   "metadata": {},
   "outputs": [
    {
     "ename": "KeyError",
     "evalue": "'foo'",
     "output_type": "error",
     "traceback": [
      "\u001b[1;31m---------------------------------------------------------------------------\u001b[0m",
      "\u001b[1;31mKeyError\u001b[0m                                  Traceback (most recent call last)",
      "Cell \u001b[1;32mIn[11], line 5\u001b[0m\n\u001b[0;32m      1\u001b[0m \u001b[38;5;66;03m#4\u001b[39;00m\n\u001b[0;32m      4\u001b[0m spam \u001b[38;5;241m=\u001b[39m {\u001b[38;5;124m'\u001b[39m\u001b[38;5;124mbar\u001b[39m\u001b[38;5;124m'\u001b[39m: \u001b[38;5;241m100\u001b[39m}\n\u001b[1;32m----> 5\u001b[0m \u001b[38;5;28mprint\u001b[39m(\u001b[43mspam\u001b[49m\u001b[43m[\u001b[49m\u001b[38;5;124;43m'\u001b[39;49m\u001b[38;5;124;43mfoo\u001b[39;49m\u001b[38;5;124;43m'\u001b[39;49m\u001b[43m]\u001b[49m)\n",
      "\u001b[1;31mKeyError\u001b[0m: 'foo'"
     ]
    }
   ],
   "source": [
    "#4. What happens if you try to access spam['foo'] if spam is {'bar': 100}?\n",
    "\n",
    "Answer-\n",
    "\n",
    "If we try to access spam['foo'] when spam is {'bar': 100}, \n",
    "a KeyError will be raised because the key 'foo' does not exist in the dictionary spam.\n",
    "\n",
    "spam = {'bar': 100}\n",
    "print(spam['foo']) # Raises KeyError: 'foo'"
   ]
  },
  {
   "cell_type": "code",
   "execution_count": 13,
   "id": "b911649e",
   "metadata": {},
   "outputs": [
    {
     "name": "stdout",
     "output_type": "stream",
     "text": [
      "cat is a key in the dictionary\n",
      "cat is a key in the dictionary using the keys() method\n"
     ]
    }
   ],
   "source": [
    "#5. If a dictionary is stored in spam, what is the difference between the expressions 'cat' in spam and 'cat' in spam.keys()?\n",
    "\n",
    "Both expressions will give the same result, but the second expression involves creating a list of keys, \n",
    "which may take extra time and memory if the dictionary is very large. Therefore, \n",
    "it is generally more efficient to use the first expression ('cat' in spam) to check for the presence of a key in a dictionary.\n",
    "\n",
    "spam = {'cat': 5, 'dog': 2, 'bird': 1}\n",
    "\n",
    "# Check if 'cat' is a key in the dictionary\n",
    "if 'cat' in spam:\n",
    "    print('cat is a key in the dictionary')\n",
    "    \n",
    "    \n",
    "    \n",
    "# Check if 'cat' is a key in the dictionary using the keys() method\n",
    "if 'cat' in spam.keys():\n",
    "    print('cat is a key in the dictionary using the keys() method')"
   ]
  },
  {
   "cell_type": "code",
   "execution_count": 14,
   "id": "744bb422",
   "metadata": {},
   "outputs": [
    {
     "name": "stdout",
     "output_type": "stream",
     "text": [
      "cat is a key in the dictionary\n",
      "cat is either a key or a value in the dictionary\n"
     ]
    }
   ],
   "source": [
    "#6. If a dictionary is stored in spam, what is the difference between the expressions 'cat' in spam and 'cat' in spam.values()?\n",
    "\n",
    "When using the expression 'cat' in spam, Python checks if the string 'cat' is a key in the dictionary spam.\n",
    "\n",
    "On the other hand, when using the expression 'cat' in spam.values(), \n",
    "Python checks if the string 'cat' is a value in the dictionary spam.\n",
    "\n",
    "e.g.,\n",
    "\n",
    "spam = {'cat': 5, 'dog': 2, 'bird': 1}\n",
    "\n",
    "# Check if 'cat' is a key in the dictionary\n",
    "if 'cat' in spam:\n",
    "    print('cat is a key in the dictionary')\n",
    "\n",
    "\n",
    "\n",
    "# Check if 'cat' is either a key or a value in the dictionary\n",
    "if 'cat' in spam or 'cat' in spam.values():\n",
    "    print('cat is either a key or a value in the dictionary')"
   ]
  },
  {
   "cell_type": "code",
   "execution_count": 15,
   "id": "c315027f",
   "metadata": {},
   "outputs": [
    {
     "data": {
      "text/plain": [
       "'black'"
      ]
     },
     "execution_count": 15,
     "metadata": {},
     "output_type": "execute_result"
    }
   ],
   "source": [
    "#7. What is a shortcut for the following code?\n",
    "#if 'color' not in spam:\n",
    "#spam['color'] = 'black'\n",
    "\n",
    "Answer-\n",
    "\n",
    "spam.setdefault('color', 'black')"
   ]
  },
  {
   "cell_type": "code",
   "execution_count": null,
   "id": "13e08d24",
   "metadata": {},
   "outputs": [],
   "source": []
  },
  {
   "cell_type": "code",
   "execution_count": 26,
   "id": "afcf634a",
   "metadata": {},
   "outputs": [
    {
     "name": "stdout",
     "output_type": "stream",
     "text": [
      "{'age': 30, 'name': 'John', 'occupation': 'Developer'}\n",
      "[1, 2, 3, [4, 5, 6], {'a': 7, 'b': 8}]\n"
     ]
    }
   ],
   "source": [
    "#8. How do you \"pretty print\" dictionary values using which module and function?\n",
    "\n",
    "Answer-\n",
    "\n",
    "pprint is a module in Python that provides a capability to “pretty-print” arbitrary Python data structures \n",
    "in a well-formatted and more readable way. \n",
    "It can be used to display complex data structures such as lists, dictionaries, tuples, \n",
    "sets, etc. in a way that preserves their structure and indentation\n",
    "\n",
    "import pprint\n",
    "\n",
    "spam = {'name': 'John', 'age': 30, 'occupation': 'Developer'}\n",
    "pprint.pprint(spam)\n",
    "\n",
    "\n",
    "\n",
    "my_list = [1, 2, 3, [4, 5, 6], {'a': 7, 'b': 8}]\n",
    "pprint.pprint(my_list)"
   ]
  },
  {
   "cell_type": "code",
   "execution_count": null,
   "id": "78d27578",
   "metadata": {},
   "outputs": [],
   "source": [
    "\n",
    "\n",
    "\n"
   ]
  },
  {
   "cell_type": "code",
   "execution_count": null,
   "id": "9a5e2c5a",
   "metadata": {},
   "outputs": [],
   "source": []
  },
  {
   "cell_type": "code",
   "execution_count": null,
   "id": "b8f7fc4c",
   "metadata": {},
   "outputs": [],
   "source": []
  }
 ],
 "metadata": {
  "kernelspec": {
   "display_name": "Python 3 (ipykernel)",
   "language": "python",
   "name": "python3"
  },
  "language_info": {
   "codemirror_mode": {
    "name": "ipython",
    "version": 3
   },
   "file_extension": ".py",
   "mimetype": "text/x-python",
   "name": "python",
   "nbconvert_exporter": "python",
   "pygments_lexer": "ipython3",
   "version": "3.10.10"
  }
 },
 "nbformat": 4,
 "nbformat_minor": 5
}
