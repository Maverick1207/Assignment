{
  "nbformat": 4,
  "nbformat_minor": 0,
  "metadata": {
    "colab": {
      "provenance": []
    },
    "kernelspec": {
      "name": "python3",
      "display_name": "Python 3"
    },
    "language_info": {
      "name": "python"
    }
  },
  "cells": [
    {
      "cell_type": "markdown",
      "source": [
        "**ANOVA,** or Analysis of Variance, is a statistical test used to compare means across two or more groups. It is used to determine if there are any statistically significant differences between the means of the groups being compared. The test calculates the F-ratio, which is the ratio of the variance between groups to the variance within groups.\n",
        "\n",
        "In order to perform an ANOVA test, we need to have a dependent variable and one or more independent variables. The dependent variable is the variable that we are interested in comparing between groups, while the independent variables are the variables that define the groups.\n",
        "\n",
        "The ANOVA test has two hypotheses: the null hypothesis and the alternative hypothesis. The null hypothesis is that there is no significant difference between the means of the groups being compared. The alternative hypothesis is that there is a significant difference between the means of the groups being compared.\n",
        "\n",
        "**Example**:\n",
        "Suppose we want to compare the effectiveness of three different types of fertilizer on plant growth. We randomly divide a plot of land into three equal parts and apply a different type of fertilizer to each section. After a month, we measure the height of the plants in each section. Our null hypothesis is that there is no difference in plant growth between the three fertilizers. Our alternative hypothesis is that there is a significant difference in plant growth between the fertilizers."
      ],
      "metadata": {
        "id": "zwS3pXDMlUN4"
      }
    },
    {
      "cell_type": "code",
      "source": [
        "import pandas as pd\n",
        "import scipy.stats as stats\n",
        "import matplotlib.pyplot as plt\n",
        "\n",
        "class AnovaTest:\n",
        "    \n",
        "    def __init__(self, groups):\n",
        "        self.groups = groups\n",
        "        self.fvalue = None\n",
        "        self.pvalue = None\n",
        "        self.result = None\n",
        "        \n",
        "    def generate_data(self, n_samples, group_means, group_sd):\n",
        "        data = {}\n",
        "        for i, group_name in enumerate(self.groups):\n",
        "            data[group_name] = stats.norm(group_means[i], group_sd).rvs(n_samples)\n",
        "        self.df = pd.DataFrame(data)\n",
        "    \n",
        "    def visualize_data(self, title):\n",
        "        self.df.plot.box(title=title)\n",
        "        plt.show()\n",
        "    \n",
        "    def perform_test(self):\n",
        "        fvalue, pvalue = stats.f_oneway(*[self.df[group] for group in self.groups])\n",
        "        self.fvalue = fvalue\n",
        "        self.pvalue = pvalue\n",
        "        if pvalue < 0.05:\n",
        "            self.result = 'Reject null hypothesis: There is a significant difference between the group means.'\n",
        "        else:\n",
        "            self.result = 'Fail to reject null hypothesis: There is no significant difference between the group means.'\n",
        "    \n",
        "    def __repr__(self):\n",
        "        return f'ANOVA test results:\\nF-value = {self.fvalue}\\np-value = {self.pvalue}\\n{self.result}'\n",
        "\n",
        "# Example usage\n",
        "groups = ['Group 1', 'Group 2', 'Group 3']\n",
        "n_samples = 50\n",
        "group_means = [1, 2, 3]\n",
        "group_sd = 1\n",
        "\n",
        "test = AnovaTest(groups)\n",
        "test.generate_data(n_samples, group_means, group_sd)\n",
        "test.visualize_data('Sample Data')\n",
        "test.perform_test()\n",
        "print(test)"
      ],
      "metadata": {
        "colab": {
          "base_uri": "https://localhost:8080/",
          "height": 350
        },
        "id": "3bejNPmojLZ0",
        "outputId": "284f1a15-fd74-44ca-f7a3-28a58c1d13e6"
      },
      "execution_count": 4,
      "outputs": [
        {
          "output_type": "display_data",
          "data": {
            "text/plain": [
              "<Figure size 432x288 with 1 Axes>"
            ],
            "image/png": "[encoded data removed]"
          },
          "metadata": {
            "needs_background": "light"
          }
        },
        {
          "output_type": "stream",
          "name": "stdout",
          "text": [
            "ANOVA test results:\n",
            "F-value = 95.07051563449924\n",
            "p-value = 3.189118821872013e-27\n",
            "Reject null hypothesis: There is a significant difference between the group means.\n"
          ]
        }
      ]
    }
  ]
}